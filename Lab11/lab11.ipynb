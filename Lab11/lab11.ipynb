{
 "cells": [
  {
   "cell_type": "markdown",
   "metadata": {},
   "source": [
    "Before you turn in the homework, make sure everything runs as expected. To do so, select **Kernel**$\\rightarrow$**Restart & Run All** in the toolbar above.  Remember to submit both on **DataHub** and **Gradescope**.\n",
    "\n",
    "Please fill in your name and include a list of your collaborators below."
   ]
  },
  {
   "cell_type": "code",
   "execution_count": null,
   "metadata": {},
   "outputs": [],
   "source": [
    "NAME = \"Riley Campbell\"\n",
    "COLLABORATORS = \"\""
   ]
  },
  {
   "cell_type": "markdown",
   "metadata": {},
   "source": [
    "---"
   ]
  },
  {
   "cell_type": "markdown",
   "metadata": {
    "deletable": false,
    "editable": false,
    "nbgrader": {
     "cell_type": "markdown",
     "checksum": "58cd705ed0673dc97b4870528cc8b070",
     "grade": false,
     "grade_id": "intro",
     "locked": true,
     "schema_version": 2,
     "solution": false
    }
   },
   "source": [
    "# Lab 11: SQL, FEC Data, and Small Donors\n",
    "\n",
    "## Due: 11:59pm Wednesday 14th\n",
    "\n",
    "\n",
    "In this lab, we explore the money donated during the 2016 election using the [Federal Election\n",
    "Commission's public records](http://www.fec.gov/finance/disclosure/ftpdet.shtml). "
   ]
  },
  {
   "cell_type": "code",
   "execution_count": 1,
   "metadata": {
    "deletable": false,
    "editable": false,
    "nbgrader": {
     "cell_type": "code",
     "checksum": "302679470952d0098e8a7f31366c7e0a",
     "grade": false,
     "grade_id": "imports",
     "locked": true,
     "schema_version": 2,
     "solution": false
    },
    "tags": [
     "solution"
    ]
   },
   "outputs": [],
   "source": [
    "import pandas as pd\n",
    "import numpy as np\n",
    "import re\n",
    "import sqlalchemy"
   ]
  },
  {
   "cell_type": "markdown",
   "metadata": {
    "deletable": false,
    "editable": false,
    "nbgrader": {
     "cell_type": "markdown",
     "checksum": "78a18441a8fe441c56a7d407eef8be50",
     "grade": false,
     "grade_id": "start",
     "locked": true,
     "schema_version": 2,
     "solution": false
    }
   },
   "source": [
    "## Getting Started\n",
    "\n",
    "For this assignment, you will be connecting to a sqlite database containing the data. The data we will be working with in this lab is quite small (16MB); however, it's taken from a larger database that more than few GBs!"
   ]
  },
  {
   "cell_type": "markdown",
   "metadata": {
    "deletable": false,
    "editable": false,
    "nbgrader": {
     "cell_type": "markdown",
     "checksum": "4ef789c93cc3ef38ae295fc08eac7fd5",
     "grade": false,
     "grade_id": "start2",
     "locked": true,
     "schema_version": 2,
     "solution": false
    }
   },
   "source": [
    "### Connecting to the SQLite"
   ]
  },
  {
   "cell_type": "markdown",
   "metadata": {},
   "source": [
    "Download the database to local disk drive, this will take about a minute. "
   ]
  },
  {
   "cell_type": "code",
   "execution_count": null,
   "metadata": {},
   "outputs": [],
   "source": [
    "import requests\n",
    "import tempfile\n",
    "tmp_db_location = tempfile.NamedTemporaryFile(suffix='fec_nyc.sqlite', delete=False)\n",
    "tmp_db_location.write(requests.get('https://s3.amazonaws.com/berkeley-ds100/fec_nyc.sqlite').content);"
   ]
  },
  {
   "cell_type": "code",
   "execution_count": null,
   "metadata": {},
   "outputs": [],
   "source": [
    "DB_LOCATION = tmp_db_location.name"
   ]
  },
  {
   "cell_type": "markdown",
   "metadata": {
    "deletable": false,
    "editable": false,
    "nbgrader": {
     "cell_type": "markdown",
     "checksum": "53350d597802a29a45e2420d634c0fda",
     "grade": false,
     "grade_id": "connect_to_db_inst",
     "locked": true,
     "schema_version": 2,
     "solution": false
    }
   },
   "source": [
    "The following cell will connect to the above database using the SQL Alchemy library."
   ]
  },
  {
   "cell_type": "code",
   "execution_count": null,
   "metadata": {
    "deletable": false,
    "editable": false,
    "nbgrader": {
     "cell_type": "code",
     "checksum": "b6d45935ed8f56c176c8bb8dbcfe2b4e",
     "grade": false,
     "grade_id": "set_engine",
     "locked": true,
     "schema_version": 2,
     "solution": false
    }
   },
   "outputs": [],
   "source": [
    "engine = sqlalchemy.create_engine(f\"sqlite:///{DB_LOCATION}\")\n",
    "connection = engine.connect()"
   ]
  },
  {
   "cell_type": "markdown",
   "metadata": {
    "deletable": false,
    "editable": false,
    "nbgrader": {
     "cell_type": "markdown",
     "checksum": "9f159a32c15b8ce6cf630ed57c4c3678",
     "grade": false,
     "grade_id": "list-tables-inst",
     "locked": true,
     "schema_version": 2,
     "solution": false
    }
   },
   "source": [
    "To check that everything is working we will list the available tables."
   ]
  },
  {
   "cell_type": "code",
   "execution_count": null,
   "metadata": {
    "deletable": false,
    "editable": false,
    "nbgrader": {
     "cell_type": "code",
     "checksum": "23d6ba329b2d28c95fdde84b4d10b43c",
     "grade": false,
     "grade_id": "list-tables",
     "locked": true,
     "schema_version": 2,
     "solution": false
    }
   },
   "outputs": [],
   "source": [
    "engine.table_names()"
   ]
  },
  {
   "cell_type": "markdown",
   "metadata": {
    "deletable": false,
    "editable": false,
    "nbgrader": {
     "cell_type": "markdown",
     "checksum": "f8bedee48077e0e984313f913952a251",
     "grade": false,
     "grade_id": "tables",
     "locked": true,
     "schema_version": 2,
     "solution": false
    }
   },
   "source": [
    "## Table Descriptions\n",
    "\n",
    "Here is a list of the tables in the database.  Each table links to the documentation on the [FEC page](http://www.fec.gov/finance/disclosure/ftpdet.shtml) for the dataset.\n",
    "\n",
    "Note that the table names here are slightly different from the ones in lecture. Consult the FEC page\n",
    "for the descriptions of the tables to find out what the correspondence is.\n",
    "\n",
    "- [`cand`](http://www.fec.gov/finance/disclosure/metadata/DataDictionaryCandidateMaster.shtml): Candidates table. Contains names and party affiliation.\n",
    "- [`comm`](http://www.fec.gov/finance/disclosure/metadata/DataDictionaryCommitteeMaster.shtml): Committees table. Contains committee names and types.\n",
    "- [`indiv_sample_nyc`](http://www.fec.gov/finance/disclosure/metadata/DataDictionaryContributionsbyIndividuals.shtml): All individual contributions from New York City.\n"
   ]
  },
  {
   "cell_type": "code",
   "execution_count": null,
   "metadata": {
    "deletable": false,
    "editable": false,
    "nbgrader": {
     "cell_type": "code",
     "checksum": "5efa0c9913e4db0194e8402f59c8d728",
     "grade": false,
     "grade_id": "example-code",
     "locked": true,
     "schema_version": 2,
     "solution": false
    }
   },
   "outputs": [],
   "source": [
    "# We use `LIMIT 5` to avoid displaying a huge table.\n",
    "# Although our tables shouldn't get too large to display,\n",
    "# this is generally good practice when working in the\n",
    "# notebook environment.  Jupyter notebooks don't handle\n",
    "# very large outputs well. \n",
    "query = \"\"\"\n",
    "SELECT * from indiv_sample_nyc LIMIT 5\n",
    "\"\"\"\n",
    "pd.read_sql(query, engine)"
   ]
  },
  {
   "cell_type": "code",
   "execution_count": null,
   "metadata": {
    "deletable": false,
    "editable": false,
    "nbgrader": {
     "cell_type": "code",
     "checksum": "101bf361876d2061185a85dd9eae37ab",
     "grade": false,
     "grade_id": "longer_query_code",
     "locked": true,
     "schema_version": 2,
     "solution": false
    }
   },
   "outputs": [],
   "source": [
    "query = '''\n",
    "SELECT cand_id, cand_name\n",
    "FROM cand\n",
    "WHERE cand_pty_affiliation = 'DEM'\n",
    "LIMIT 5\n",
    "'''\n",
    "pd.read_sql(query,engine)"
   ]
  },
  {
   "cell_type": "markdown",
   "metadata": {
    "deletable": false,
    "editable": false,
    "nbgrader": {
     "cell_type": "markdown",
     "checksum": "508ea27467d66f517b868688da18f458",
     "grade": false,
     "grade_id": "assign",
     "locked": true,
     "schema_version": 2,
     "solution": false
    }
   },
   "source": [
    "### Notes on Grading \n",
    "\n",
    "1. For this lab, we will be grading your SQL expressions so be sure to do all computation in SQL (unless otherwise requested).  \n",
    "1. Use the query string variable we provide since we will be analyzing your SQL query strings."
   ]
  },
  {
   "cell_type": "markdown",
   "metadata": {},
   "source": [
    "### Question 1: Donation Amount"
   ]
  },
  {
   "cell_type": "markdown",
   "metadata": {
    "deletable": false,
    "editable": false,
    "nbgrader": {
     "cell_type": "markdown",
     "checksum": "49ff821409383dec45b54cc1de127e23",
     "grade": false,
     "grade_id": "q1a",
     "locked": true,
     "schema_version": 2,
     "solution": false
    }
   },
   "source": [
    "### Question 1a\n",
    "\n",
    "We are interested in finding the individuals from New York City that donated large sums. To begin to answer this question, we will look at the `indiv_sample_nyc` table. We'll find all the transactions that exceed \\$5,000,000. However, if there are a lot of transactions like that, it might not be useful to list them all.  So before actually finding the transactions, _find out how many such transactions there are_. Use only SQL to compute the answer.\n",
    "\n",
    "(It should be a table with a single column called **`count`** and a single entry, the number of transactions.)  \n",
    "\n",
    "We will be grading the query string `query_q1a`.  You may modify our template but the result should contain the same information with the same names.\n",
    "\n",
    "**In this question, and in the following ones, we will only be grading the output of** `pd.read_sql(query_qXX, engine)`.  \n",
    "**Make sure that the output of this query matches what you want (order, column names, etc...)**"
   ]
  },
  {
   "cell_type": "code",
   "execution_count": null,
   "metadata": {
    "deletable": false,
    "for_assignment_type": "student",
    "nbgrader": {
     "cell_type": "code",
     "checksum": "746a4225ed796593ea0c62c24c013a7a",
     "grade": false,
     "grade_id": "q1a-answer",
     "locked": false,
     "schema_version": 2,
     "solution": true
    },
    "tags": [
     "student"
    ]
   },
   "outputs": [],
   "source": [
    "# complete the query string\n",
    "query_q1a = \"\"\"\n",
    "SELECT ...\n",
    "FROM ...\n",
    "WHERE ...\n",
    "\"\"\"\n",
    "\n",
    "pd.read_sql(query_q1a, engine)"
   ]
  },
  {
   "cell_type": "code",
   "execution_count": null,
   "metadata": {
    "deletable": false,
    "editable": false,
    "nbgrader": {
     "cell_type": "code",
     "checksum": "6ee6843c6e66f23807385e274acb07ac",
     "grade": true,
     "grade_id": "q1a-tests",
     "locked": true,
     "points": 1,
     "schema_version": 2,
     "solution": false
    },
    "tags": [
     "q01a",
     "test"
    ]
   },
   "outputs": [],
   "source": [
    "res = pd.read_sql(query_q1a,engine)\n",
    "assert len(res) == 1\n",
    "assert res.columns == ['count']\n",
    "\n",
    "assert res[\"count\"][0] == 6"
   ]
  },
  {
   "cell_type": "markdown",
   "metadata": {
    "deletable": false,
    "editable": false,
    "nbgrader": {
     "cell_type": "markdown",
     "checksum": "5ec3dd63715d1b26a4e4e60cfabb2b46",
     "grade": false,
     "grade_id": "q1b",
     "locked": true,
     "schema_version": 2,
     "solution": false
    }
   },
   "source": [
    "### Question 1b\n",
    "Having seen that there aren't too many transactions that exceed 100,000 dollars, let's find them all.  Using only SQL, construct a table containing the committee ID, contributor's name, and the transaction amount, for transactions that exceed \\$ 100,000 dollars.  Sort the transactions in decreasing order by amount. If two contributors contain the same transaction amount, sort by alphabetical order of their names.\n",
    "\n",
    "We will be grading the query string `query_q1b`.  You may modify our template but the result should contain the same information with the same names.\n",
    "\n",
    "The output should similar to the following:\n",
    "\n",
    "<table border=\"1\" class=\"dataframe\">\n",
    "  <thead>\n",
    "    <tr style=\"text-align: right;\">\n",
    "      <th></th>\n",
    "      <th>committee_id</th>\n",
    "      <th>name</th>\n",
    "      <th>transaction_amt</th>\n",
    "    </tr>\n",
    "  </thead>\n",
    "  <tbody>\n",
    "    <tr>\n",
    "      <th>0</th>\n",
    "      <td>C00010603</td>\n",
    "      <td>HILLARY VICTORY FUND</td>\n",
    "      <td>23787000</td>\n",
    "    </tr>\n",
    "    <tr>\n",
    "      <th>1</th>\n",
    "      <td>C00571372</td>\n",
    "      <td>C.V. STARR &amp; CO INC</td>\n",
    "      <td>10000000</td>\n",
    "    </tr>\n",
    "    <tr>\n",
    "      <th>2</th>\n",
    "      <td>C00580100</td>\n",
    "      <td>TRUMP, DONALD J.</td>\n",
    "      <td>10000000</td>\n",
    "    </tr>\n",
    "    <tr>\n",
    "      <th>3</th>\n",
    "      <td>C00532705</td>\n",
    "      <td>BLOOMBERG, MICHAEL R.</td>\n",
    "      <td>8500000</td>\n",
    "    </tr>\n",
    "    <tr>\n",
    "      <th>4</th>\n",
    "      <td>C00010603</td>\n",
    "      <td>HILLARY VICTORY FUND</td>\n",
    "      <td>6175000</td>\n",
    "    </tr>\n",
    "    <tr>\n",
    "      <th>5</th>\n",
    "      <td>C00495861</td>\n",
    "      <td>SOROS, GEORGE</td>\n",
    "      <td>6000000</td>\n",
    "    </tr>\n",
    "  </tbody>\n",
    "</table>"
   ]
  },
  {
   "cell_type": "code",
   "execution_count": null,
   "metadata": {
    "deletable": false,
    "for_assignment_type": "student",
    "nbgrader": {
     "cell_type": "code",
     "checksum": "9510fe375d24e778345a34ee7db317bf",
     "grade": false,
     "grade_id": "q1b-answer",
     "locked": false,
     "schema_version": 2,
     "solution": true
    },
    "tags": [
     "student"
    ]
   },
   "outputs": [],
   "source": [
    "# complete the query string\n",
    "query_q1b = \"\"\"\n",
    "SELECT \n",
    "    ... AS committee_id,\n",
    "    ... AS name,\n",
    "    ... AS transaction_amt\n",
    "FROM ...\n",
    "WHERE ...\n",
    "ORDER BY ...\n",
    "\"\"\"\n",
    "\n",
    "pd.read_sql(query_q1b, engine)"
   ]
  },
  {
   "cell_type": "code",
   "execution_count": null,
   "metadata": {
    "deletable": false,
    "editable": false,
    "nbgrader": {
     "cell_type": "code",
     "checksum": "5a71557991391fb6d8ec3dec546426a8",
     "grade": true,
     "grade_id": "q1b-tests",
     "locked": true,
     "points": 1,
     "schema_version": 2,
     "solution": false
    },
    "tags": [
     "test",
     "q01b"
    ]
   },
   "outputs": [],
   "source": [
    "res = pd.read_sql(query_q1b, engine)\n",
    "assert res.shape == (6, 3)\n",
    "assert set(res.columns) == set(['committee_id', 'name', 'transaction_amt'])\n",
    "assert all(res == res.sort_values('transaction_amt', ascending=False))\n",
    "\n",
    "assert set(res['name'].unique()) == set(['HILLARY VICTORY FUND', 'C.V. STARR & CO INC', 'TRUMP, DONALD J.',\n",
    "       'BLOOMBERG, MICHAEL R.', 'SOROS, GEORGE'])"
   ]
  },
  {
   "cell_type": "markdown",
   "metadata": {
    "deletable": false,
    "editable": false,
    "nbgrader": {
     "cell_type": "markdown",
     "checksum": "5634af282d9703379d3af2d15070e797",
     "grade": false,
     "grade_id": "q1c",
     "locked": true,
     "schema_version": 2,
     "solution": false
    }
   },
   "source": [
    "### Question 1c\n",
    "\n",
    "Of course, only looking at individual transactions could be misleading, since each contributor can make several transactions. A more interesting question is: How much did each contributor give *in total*?  Find the total transaction amounts after grouping by the name.  This time, just use `LIMIT 20` to limit your results to the top 20 total donations. Sort the results in descending order by total contribution amount. Break ties by alphabetical order of name as in the previous question.\n",
    "\n",
    "We will be grading the query string `query_q1c`.  You may modify our template but the result should contain the same information with the same names.\n",
    "\n",
    "The output should look something like: \n",
    "\n",
    "\n",
    "<table border=\"1\" class=\"dataframe\">\n",
    "  <thead>\n",
    "    <tr style=\"text-align: right;\">\n",
    "      <th></th>\n",
    "      <th>name</th>\n",
    "      <th>total_transaction_amt</th>\n",
    "    </tr>\n",
    "  </thead>\n",
    "  <tbody>\n",
    "    <tr>\n",
    "      <th>0</th>\n",
    "      <td>HILLARY VICTORY FUND</td>\n",
    "      <td>35379700</td>\n",
    "    </tr>\n",
    "    <tr>\n",
    "      <th>1</th>\n",
    "      <td>SOROS, GEORGE</td>\n",
    "      <td>22359611</td>\n",
    "    </tr>\n",
    "    <tr>\n",
    "      <th>2</th>\n",
    "      <td>BLOOMBERG, MICHAEL R.</td>\n",
    "      <td>21675924</td>\n",
    "    </tr>\n",
    "    <tr>\n",
    "      <th>3</th>\n",
    "      <td>TRUMP, DONALD J.</td>\n",
    "      <td>18638557</td>\n",
    "    </tr>\n",
    "    <tr>\n",
    "      <th>4</th>\n",
    "      <td>SIMONS, JAMES H.</td>\n",
    "      <td>11345900</td>\n",
    "    </tr>\n",
    "    <tr>\n",
    "      <th>5</th>\n",
    "      <td>SIMONS, JAMES</td>\n",
    "      <td>11059000</td>\n",
    "    </tr>\n",
    "    <tr>\n",
    "      <th>6</th>\n",
    "      <td>C.V. STARR &amp; CO INC</td>\n",
    "      <td>10000000</td>\n",
    "    </tr>\n",
    "    <tr>\n",
    "      <th>7</th>\n",
    "      <td>SINGER, PAUL</td>\n",
    "      <td>9379453</td>\n",
    "    </tr>\n",
    "    <tr>\n",
    "      <th>8</th>\n",
    "      <td>SINGER, PAUL ELLIOT</td>\n",
    "      <td>7400000</td>\n",
    "    </tr>\n",
    "    <tr>\n",
    "      <th>9</th>\n",
    "      <td>SHAW, DAVID E.</td>\n",
    "      <td>5369500</td>\n",
    "    </tr>\n",
    "    <tr>\n",
    "      <th>10</th>\n",
    "      <td>HILLARY ACTION FUND</td>\n",
    "      <td>4950000</td>\n",
    "    </tr>\n",
    "    <tr>\n",
    "      <th>11</th>\n",
    "      <td>SCHWARTZ, BERNARD L.</td>\n",
    "      <td>4725600</td>\n",
    "    </tr>\n",
    "    <tr>\n",
    "      <th>12</th>\n",
    "      <td>SOROS, ALEXANDER</td>\n",
    "      <td>4361524</td>\n",
    "    </tr>\n",
    "    <tr>\n",
    "      <th>13</th>\n",
    "      <td>SCHWARZMAN, STEPHEN A.</td>\n",
    "      <td>3997400</td>\n",
    "    </tr>\n",
    "    <tr>\n",
    "      <th>14</th>\n",
    "      <td>MUNGER, PHILIP R.</td>\n",
    "      <td>3390000</td>\n",
    "    </tr>\n",
    "    <tr>\n",
    "      <th>15</th>\n",
    "      <td>SINGER, PAUL E.</td>\n",
    "      <td>3066000</td>\n",
    "    </tr>\n",
    "    <tr>\n",
    "      <th>16</th>\n",
    "      <td>SINGER, PAUL ELLIOTT</td>\n",
    "      <td>3000000</td>\n",
    "    </tr>\n",
    "    <tr>\n",
    "      <th>17</th>\n",
    "      <td>SIMONS, MARILYN</td>\n",
    "      <td>2531600</td>\n",
    "    </tr>\n",
    "    <tr>\n",
    "      <th>18</th>\n",
    "      <td>UNITE HERE TIP STATE &amp; LOCAL FUND</td>\n",
    "      <td>2527009</td>\n",
    "    </tr>\n",
    "    <tr>\n",
    "      <th>19</th>\n",
    "      <td>C. V. STARR &amp; COMPANY, INC.</td>\n",
    "      <td>2500000</td>\n",
    "    </tr>\n",
    "  </tbody>\n",
    "</table>"
   ]
  },
  {
   "cell_type": "code",
   "execution_count": null,
   "metadata": {
    "deletable": false,
    "for_assignment_type": "student",
    "nbgrader": {
     "cell_type": "code",
     "checksum": "4329f006bafdda9f5c0d0c7910b18e7d",
     "grade": false,
     "grade_id": "q1c-answer",
     "locked": false,
     "schema_version": 2,
     "solution": true
    },
    "tags": [
     "student"
    ]
   },
   "outputs": [],
   "source": [
    "# complete the query string\n",
    "query_q1c = '''\n",
    "SELECT \n",
    "    ... AS name,\n",
    "    ... AS total_transaction_amt \n",
    "FROM indiv_sample_nyc \n",
    "GROUP BY ... \n",
    "ORDER BY ... DESC\n",
    "LIMIT ...\n",
    "'''\n",
    "\n",
    "pd.read_sql(query_q1c, engine)"
   ]
  },
  {
   "cell_type": "code",
   "execution_count": null,
   "metadata": {
    "deletable": false,
    "editable": false,
    "nbgrader": {
     "cell_type": "code",
     "checksum": "cb5aef1027374b4454d9acc771a661f0",
     "grade": true,
     "grade_id": "cell-079f99ab023b3cfa",
     "locked": true,
     "points": 1,
     "schema_version": 2,
     "solution": false
    }
   },
   "outputs": [],
   "source": [
    "res = pd.read_sql(query_q1c,engine)\n",
    "assert res.shape == (20, 2)\n",
    "assert all(res['total_transaction_amt'] == res['total_transaction_amt'].sort_values(ascending=False))\n",
    "\n",
    "assert set(res['name']) == set(['HILLARY VICTORY FUND', 'SOROS, GEORGE', 'BLOOMBERG, MICHAEL R.',\n",
    "       'TRUMP, DONALD J.', 'SIMONS, JAMES H.', 'SIMONS, JAMES',\n",
    "       'C.V. STARR & CO INC', 'SINGER, PAUL', 'SINGER, PAUL ELLIOT',\n",
    "       'SHAW, DAVID E.', 'HILLARY ACTION FUND', 'SCHWARTZ, BERNARD L.',\n",
    "       'SOROS, ALEXANDER', 'SCHWARZMAN, STEPHEN A.', 'MUNGER, PHILIP R.',\n",
    "       'SINGER, PAUL E.', 'SINGER, PAUL ELLIOTT', 'SIMONS, MARILYN',\n",
    "       'UNITE HERE TIP STATE & LOCAL FUND', 'C. V. STARR & COMPANY, INC.'])"
   ]
  },
  {
   "cell_type": "markdown",
   "metadata": {},
   "source": [
    "### Question 2: Donation & Occupation"
   ]
  },
  {
   "cell_type": "markdown",
   "metadata": {
    "deletable": false,
    "editable": false,
    "nbgrader": {
     "cell_type": "markdown",
     "checksum": "a66f48ff454526a158b5c7290899a996",
     "grade": false,
     "grade_id": "q2a",
     "locked": true,
     "schema_version": 2,
     "solution": false
    }
   },
   "source": [
    "### Question 2a\n",
    "\n",
    "We might also be interested in examining the distribution of contributors by occupation. Let's first compute how many distinct occupations occur in the dataset. You may need to use the `DISTINCT` keyword to solve the problem. Make sure to rename your result column to `count`."
   ]
  },
  {
   "cell_type": "code",
   "execution_count": null,
   "metadata": {
    "deletable": false,
    "nbgrader": {
     "cell_type": "code",
     "checksum": "bbb2f6dbfec2c3eb6cf8281ce261ace2",
     "grade": false,
     "grade_id": "q2a-answer",
     "locked": false,
     "schema_version": 2,
     "solution": true
    },
    "tags": [
     "student"
    ]
   },
   "outputs": [],
   "source": [
    "query_q2a = '''\n",
    "SELECT \n",
    "    ...\n",
    "FROM indiv_sample_nyc \n",
    "'''\n",
    "\n",
    "pd.read_sql(query_q2a,engine)"
   ]
  },
  {
   "cell_type": "code",
   "execution_count": null,
   "metadata": {
    "deletable": false,
    "editable": false,
    "nbgrader": {
     "cell_type": "code",
     "checksum": "81440cd6546c605172d269cff1ca3746",
     "grade": true,
     "grade_id": "q2a-tests",
     "locked": true,
     "points": 1,
     "schema_version": 2,
     "solution": false
    },
    "tags": [
     "q02a",
     "test"
    ]
   },
   "outputs": [],
   "source": [
    "res = pd.read_sql(query_q2a,engine)\n",
    "assert len(res) == 1\n",
    "assert res.columns == ['count']\n",
    "\n",
    "assert res[\"count\"][0] == 14089"
   ]
  },
  {
   "cell_type": "markdown",
   "metadata": {
    "deletable": false,
    "editable": false,
    "nbgrader": {
     "cell_type": "markdown",
     "checksum": "15924f49a04a985e6db714ea961fdfe6",
     "grade": false,
     "grade_id": "q2b",
     "locked": true,
     "schema_version": 2,
     "solution": false
    }
   },
   "source": [
    "### Question 2b \n",
    " Write a SQL query which computes for each occupation the number of transactions in the indiv_sample table. Display the top 20 results in descending order by count. \n",
    "\n",
    "We will be grading the query string `query_q2b`.  You may modify our template but the result should contain the same information with the same names.\n",
    "\n",
    "The output should look something like: \n",
    "\n",
    "<table border=\"1\" class=\"dataframe\">\n",
    "  <thead>\n",
    "    <tr style=\"text-align: right;\">\n",
    "      <th></th>\n",
    "      <th>occupation</th>\n",
    "      <th>count</th>\n",
    "    </tr>\n",
    "  </thead>\n",
    "  <tbody>\n",
    "    <tr>\n",
    "      <th>0</th>\n",
    "      <td>NOT EMPLOYED</td>\n",
    "      <td>56006</td>\n",
    "    </tr>\n",
    "    <tr>\n",
    "      <th>1</th>\n",
    "      <td>RETIRED</td>\n",
    "      <td>48481</td>\n",
    "    </tr>\n",
    "    <tr>\n",
    "      <th>2</th>\n",
    "      <td>ATTORNEY</td>\n",
    "      <td>29537</td>\n",
    "    </tr>\n",
    "    <tr>\n",
    "      <th>3</th>\n",
    "      <td></td>\n",
    "      <td>21212</td>\n",
    "    </tr>\n",
    "    <tr>\n",
    "      <th>4</th>\n",
    "      <td>MANAGING DIRECTOR</td>\n",
    "      <td>12540</td>\n",
    "    </tr>\n",
    "    <tr>\n",
    "      <th>5</th>\n",
    "      <td>WRITER</td>\n",
    "      <td>9445</td>\n",
    "    </tr>\n",
    "    <tr>\n",
    "      <th>6</th>\n",
    "      <td>PHYSICIAN</td>\n",
    "      <td>9430</td>\n",
    "    </tr>\n",
    "    <tr>\n",
    "      <th>7</th>\n",
    "      <td>PROFESSOR</td>\n",
    "      <td>9309</td>\n",
    "    </tr>\n",
    "    <tr>\n",
    "      <th>8</th>\n",
    "      <td>LAWYER</td>\n",
    "      <td>9048</td>\n",
    "    </tr>\n",
    "    <tr>\n",
    "      <th>9</th>\n",
    "      <td>EXECUTIVE</td>\n",
    "      <td>8376</td>\n",
    "    </tr>\n",
    "    <tr>\n",
    "      <th>10</th>\n",
    "      <td>CONSULTANT</td>\n",
    "      <td>7605</td>\n",
    "    </tr>\n",
    "    <tr>\n",
    "      <th>11</th>\n",
    "      <td>TEACHER</td>\n",
    "      <td>6743</td>\n",
    "    </tr>\n",
    "    <tr>\n",
    "      <th>12</th>\n",
    "      <td>INVESTMENT BANKING</td>\n",
    "      <td>6313</td>\n",
    "    </tr>\n",
    "    <tr>\n",
    "      <th>13</th>\n",
    "      <td>UNEMPLOYED</td>\n",
    "      <td>6115</td>\n",
    "    </tr>\n",
    "    <tr>\n",
    "      <th>14</th>\n",
    "      <td>ARTIST</td>\n",
    "      <td>5826</td>\n",
    "    </tr>\n",
    "    <tr>\n",
    "      <th>15</th>\n",
    "      <td>ARCHITECT</td>\n",
    "      <td>5383</td>\n",
    "    </tr>\n",
    "    <tr>\n",
    "      <th>16</th>\n",
    "      <td>HOMEMAKER</td>\n",
    "      <td>4982</td>\n",
    "    </tr>\n",
    "    <tr>\n",
    "      <th>17</th>\n",
    "      <td>PARTNER</td>\n",
    "      <td>4719</td>\n",
    "    </tr>\n",
    "    <tr>\n",
    "      <th>18</th>\n",
    "      <td>REAL ESTATE</td>\n",
    "      <td>4025</td>\n",
    "    </tr>\n",
    "    <tr>\n",
    "      <th>19</th>\n",
    "      <td>PSYCHOTHERAPIST</td>\n",
    "      <td>3876</td>\n",
    "    </tr>\n",
    "  </tbody>\n",
    "</table>"
   ]
  },
  {
   "cell_type": "code",
   "execution_count": null,
   "metadata": {
    "deletable": false,
    "for_assignment_type": "student",
    "nbgrader": {
     "cell_type": "code",
     "checksum": "7158723a57ee6150249f11ee5490ad0f",
     "grade": false,
     "grade_id": "q2b-answer",
     "locked": false,
     "schema_version": 2,
     "solution": true
    },
    "tags": [
     "student"
    ]
   },
   "outputs": [],
   "source": [
    "# complete the query string\n",
    "query_q2b = '''\n",
    "SELECT \n",
    "    ... AS occupation, \n",
    "    ... AS count\n",
    "FROM ...\n",
    "...\n",
    "...\n",
    "LIMIT ...\n",
    "'''\n",
    "\n",
    "pd.read_sql(query_q2b, engine)"
   ]
  },
  {
   "cell_type": "code",
   "execution_count": null,
   "metadata": {
    "deletable": false,
    "editable": false,
    "nbgrader": {
     "cell_type": "code",
     "checksum": "8bb1cadd06b7c1a30f8bafcf5f45983f",
     "grade": true,
     "grade_id": "q2b-tests",
     "locked": true,
     "points": 1,
     "schema_version": 2,
     "solution": false
    },
    "tags": [
     "q02b",
     "test"
    ]
   },
   "outputs": [],
   "source": [
    "res = pd.read_sql(query_q2b,engine)\n",
    "assert res.shape == (20, 2)\n",
    "assert set(res.columns) == set(['occupation', 'count'])\n",
    "assert all(res == res.sort_values('count', ascending=False))\n",
    "\n",
    "assert set(res['occupation']).issuperset(set(['NOT EMPLOYED', 'RETIRED', 'ATTORNEY', '', 'MANAGING DIRECTOR',\n",
    "       'WRITER', 'PHYSICIAN', 'PROFESSOR', 'LAWYER', 'EXECUTIVE',\n",
    "       'CONSULTANT', 'TEACHER', 'INVESTMENT BANKING', 'UNEMPLOYED',\n",
    "       'ARTIST', 'ARCHITECT', 'HOMEMAKER', 'PARTNER', 'REAL ESTATE',\n",
    "       'PSYCHOTHERAPIST']))\n"
   ]
  },
  {
   "cell_type": "markdown",
   "metadata": {
    "deletable": false,
    "editable": false,
    "nbgrader": {
     "cell_type": "markdown",
     "checksum": "72ee4865aaea0be9b6cae4739c49e0ea",
     "grade": false,
     "grade_id": "q2c",
     "locked": true,
     "schema_version": 2,
     "solution": false
    }
   },
   "source": [
    "### Questions 2c\n",
    "Compute the average transaction amount for each occupation, and sort them in descending order.  \n",
    "Display the top 10 results.\n",
    "\n",
    "The output should look something like: \n",
    "\n",
    "<table border=\"1\" class=\"dataframe\">\n",
    "  <thead>\n",
    "    <tr style=\"text-align: right;\">\n",
    "      <th></th>\n",
    "      <th>occupation</th>\n",
    "      <th>amount</th>\n",
    "      <th>count</th>\n",
    "    </tr>\n",
    "  </thead>\n",
    "  <tbody>\n",
    "    <tr>\n",
    "      <th>0</th>\n",
    "      <td>CHAIRMAN CEO &amp; FOUNDER</td>\n",
    "      <td>1.023333e+06</td>\n",
    "      <td>3</td>\n",
    "    </tr>\n",
    "    <tr>\n",
    "      <th>1</th>\n",
    "      <td>FOUNDING AND MANAGING PRINCIPAL</td>\n",
    "      <td>4.500000e+05</td>\n",
    "      <td>2</td>\n",
    "    </tr>\n",
    "    <tr>\n",
    "      <th>2</th>\n",
    "      <td>CHAIRMAN AND SENIOR EXECUTIVE</td>\n",
    "      <td>4.000000e+05</td>\n",
    "      <td>1</td>\n",
    "    </tr>\n",
    "    <tr>\n",
    "      <th>3</th>\n",
    "      <td>BIOMEDICAL RESEARCHER</td>\n",
    "      <td>3.333333e+05</td>\n",
    "      <td>3</td>\n",
    "    </tr>\n",
    "    <tr>\n",
    "      <th>4</th>\n",
    "      <td>OWNER, CHAIRMAN, CEO</td>\n",
    "      <td>3.000000e+05</td>\n",
    "      <td>2</td>\n",
    "    </tr>\n",
    "    <tr>\n",
    "      <th>5</th>\n",
    "      <td>C.E..O.</td>\n",
    "      <td>2.500000e+05</td>\n",
    "      <td>1</td>\n",
    "    </tr>\n",
    "    <tr>\n",
    "      <th>6</th>\n",
    "      <td>EXECUTIVE VICE-PRESAIDENT</td>\n",
    "      <td>2.442000e+05</td>\n",
    "      <td>1</td>\n",
    "    </tr>\n",
    "    <tr>\n",
    "      <th>7</th>\n",
    "      <td>CO-CEO &amp; CO-CIO</td>\n",
    "      <td>2.000000e+05</td>\n",
    "      <td>1</td>\n",
    "    </tr>\n",
    "    <tr>\n",
    "      <th>8</th>\n",
    "      <td>EXECUTIVE CO-CHAIR</td>\n",
    "      <td>2.000000e+05</td>\n",
    "      <td>1</td>\n",
    "    </tr>\n",
    "    <tr>\n",
    "      <th>9</th>\n",
    "      <td>CHAIRPERSON</td>\n",
    "      <td>1.883000e+05</td>\n",
    "      <td>8</td>\n",
    "    </tr>\n",
    "  </tbody>\n",
    "</table>"
   ]
  },
  {
   "cell_type": "code",
   "execution_count": null,
   "metadata": {
    "deletable": false,
    "nbgrader": {
     "cell_type": "code",
     "checksum": "2803c7825192f66ed4520366586343cd",
     "grade": false,
     "grade_id": "q2c-answer",
     "locked": false,
     "schema_version": 2,
     "solution": true
    },
    "tags": [
     "student"
    ]
   },
   "outputs": [],
   "source": [
    "# complete the query string\n",
    "query_q2c = '''\n",
    "SELECT \n",
    "    ... AS occupation, \n",
    "    ... AS avg_amount,\n",
    "    ... AS count\n",
    "FROM indiv_sample_nyc \n",
    "...\n",
    "...\n",
    "LIMIT ...\n",
    "'''\n",
    "\n",
    "pd.read_sql(query_q2c, engine)"
   ]
  },
  {
   "cell_type": "code",
   "execution_count": null,
   "metadata": {
    "deletable": false,
    "editable": false,
    "nbgrader": {
     "cell_type": "code",
     "checksum": "47e4f44d217a413366466931e7ce13a7",
     "grade": true,
     "grade_id": "q2c-tests",
     "locked": true,
     "points": 1,
     "schema_version": 2,
     "solution": false
    },
    "tags": [
     "test",
     "q02c"
    ]
   },
   "outputs": [],
   "source": [
    "res = pd.read_sql(query_q2c,engine)\n",
    "assert res.shape == (10, 3)\n",
    "assert all(res == res.sort_values('amount', ascending=False))\n",
    "\n",
    "assert set(list(res[\"amount\"].astype(int))) == set([1023333,  450000,  400000,  333333,  300000,  250000,  244200,\n",
    "        200000,  200000,  188300])\n",
    "assert set(list(res[\"occupation\"])) == set(['CHAIRMAN CEO & FOUNDER', 'FOUNDING AND MANAGING PRINCIPAL',\n",
    "       'CHAIRMAN AND SENIOR EXECUTIVE', 'BIOMEDICAL RESEARCHER',\n",
    "       'OWNER, CHAIRMAN, CEO', 'C.E..O.', 'EXECUTIVE VICE-PRESAIDENT',\n",
    "       'CO-CEO & CO-CIO', 'EXECUTIVE CO-CHAIR', 'CHAIRPERSON'])"
   ]
  },
  {
   "cell_type": "markdown",
   "metadata": {
    "deletable": false,
    "editable": false,
    "nbgrader": {
     "cell_type": "markdown",
     "checksum": "446305c9320361676a2580c437134818",
     "grade": false,
     "grade_id": "q2d",
     "locked": true,
     "schema_version": 2,
     "solution": false
    }
   },
   "source": [
    "### Questions 2d\n",
    "\n",
    "A few of the above occupations contain 1 or 2 transactions which could lead to unreliable conclusions.  Use a `HAVING` clause to keep only occupations for which we have more than 10 transactions. \n",
    "\n",
    "As before, display the top 10 occupations that have the largest average total transaction amount.\n",
    "\n",
    "Your output should look similar to: \n",
    "\n",
    "<table border=\"1\" class=\"dataframe\">\n",
    "  <thead>\n",
    "    <tr style=\"text-align: right;\">\n",
    "      <th></th>\n",
    "      <th>occupation</th>\n",
    "      <th>amount</th>\n",
    "      <th>count</th>\n",
    "    </tr>\n",
    "  </thead>\n",
    "  <tbody>\n",
    "    <tr>\n",
    "      <th>0</th>\n",
    "      <td>C.E.O.</td>\n",
    "      <td>185271.886792</td>\n",
    "      <td>53</td>\n",
    "    </tr>\n",
    "    <tr>\n",
    "      <th>1</th>\n",
    "      <td>BIOMEDICAL RESEARCH</td>\n",
    "      <td>110563.750000</td>\n",
    "      <td>40</td>\n",
    "    </tr>\n",
    "    <tr>\n",
    "      <th>2</th>\n",
    "      <td>PRESIDENT/CEO</td>\n",
    "      <td>92551.541463</td>\n",
    "      <td>205</td>\n",
    "    </tr>\n",
    "    <tr>\n",
    "      <th>3</th>\n",
    "      <td>FOUNDER &amp; CEO</td>\n",
    "      <td>68304.626374</td>\n",
    "      <td>91</td>\n",
    "    </tr>\n",
    "    <tr>\n",
    "      <th>4</th>\n",
    "      <td>PHILANTHROPIST</td>\n",
    "      <td>51764.404669</td>\n",
    "      <td>257</td>\n",
    "    </tr>\n",
    "    <tr>\n",
    "      <th>5</th>\n",
    "      <td>FOUNDER AND PRINCIPAL</td>\n",
    "      <td>43490.909091</td>\n",
    "      <td>11</td>\n",
    "    </tr>\n",
    "    <tr>\n",
    "      <th>6</th>\n",
    "      <td>CEO &amp; FOUNDER</td>\n",
    "      <td>37795.266667</td>\n",
    "      <td>15</td>\n",
    "    </tr>\n",
    "    <tr>\n",
    "      <th>7</th>\n",
    "      <td>GROUP PRESIDENT</td>\n",
    "      <td>29775.000000</td>\n",
    "      <td>19</td>\n",
    "    </tr>\n",
    "    <tr>\n",
    "      <th>8</th>\n",
    "      <td>FUND MANAGER</td>\n",
    "      <td>29151.119403</td>\n",
    "      <td>67</td>\n",
    "    </tr>\n",
    "    <tr>\n",
    "      <th>9</th>\n",
    "      <td>CHIEF INVESTMENT OFFICER</td>\n",
    "      <td>26616.666667</td>\n",
    "      <td>42</td>\n",
    "    </tr>\n",
    "  </tbody>\n",
    "</table>"
   ]
  },
  {
   "cell_type": "code",
   "execution_count": null,
   "metadata": {
    "deletable": false,
    "nbgrader": {
     "cell_type": "code",
     "checksum": "4ac91c160372bc8767fd7da256a64866",
     "grade": false,
     "grade_id": "q2d-answer",
     "locked": false,
     "schema_version": 2,
     "solution": true
    },
    "tags": [
     "student"
    ]
   },
   "outputs": [],
   "source": [
    "# complete the query string\n",
    "query_q2d = '''\n",
    "SELECT \n",
    "    ... AS occupation, \n",
    "    ... AS avg_amount,\n",
    "    ... AS count\n",
    "FROM indiv_sample_nyc \n",
    "GROUP BY ...\n",
    "HAVING ...\n",
    "ORDER BY ...\n",
    "LIMIT ...\n",
    "'''\n",
    "\n",
    "pd.read_sql(query_q2d, engine)"
   ]
  },
  {
   "cell_type": "code",
   "execution_count": null,
   "metadata": {
    "deletable": false,
    "editable": false,
    "nbgrader": {
     "cell_type": "code",
     "checksum": "9504e18f51b157cb3bb158e074e923a9",
     "grade": true,
     "grade_id": "q2d-tests",
     "locked": true,
     "points": 1,
     "schema_version": 2,
     "solution": false
    },
    "tags": [
     "test",
     "q02d"
    ]
   },
   "outputs": [],
   "source": [
    "res = pd.read_sql(query_q2d, engine)\n",
    "assert res.shape == (10, 3)\n",
    "assert all(res == res.sort_values('amount', ascending=False))\n",
    "\n",
    "assert set(list(res[\"amount\"].astype(int))) == set([185271, 110563,  92551,  68304,  51764,  43490,  37795,  29775,\n",
    "        29151,  26616])\n",
    "assert set(list(res[\"occupation\"])) == set(['C.E.O.', 'BIOMEDICAL RESEARCH', 'PRESIDENT/CEO', 'FOUNDER & CEO',\n",
    "       'PHILANTHROPIST', 'FOUNDER AND PRINCIPAL', 'CEO & FOUNDER',\n",
    "       'GROUP PRESIDENT', 'FUND MANAGER', 'CHIEF INVESTMENT OFFICER'])"
   ]
  },
  {
   "cell_type": "markdown",
   "metadata": {
    "deletable": false,
    "editable": false,
    "nbgrader": {
     "cell_type": "markdown",
     "checksum": "ec3a4960e94c2ecf16d409db07aac61f",
     "grade": false,
     "grade_id": "q2e",
     "locked": true,
     "schema_version": 2,
     "solution": false
    }
   },
   "source": [
    "### Questions 2e\n",
    "\n",
    "Let's break the total contributions down by occupation and individual (grouping on both dimensions at once).  Display the `occupation`, `name`, and total contribution amount from the `indiv_sample_nyc` table. Display the top 10 results order by the `total_amount`.\n",
    "\n",
    "The output should look something like: \n",
    "<table border=\"1\" class=\"dataframe\">\n",
    "  <thead>\n",
    "    <tr style=\"text-align: right;\">\n",
    "      <th></th>\n",
    "      <th>occupation</th>\n",
    "      <th>name</th>\n",
    "      <th>total_amount</th>\n",
    "    </tr>\n",
    "  </thead>\n",
    "  <tbody>\n",
    "    <tr>\n",
    "      <th>0</th>\n",
    "      <td></td>\n",
    "      <td>HILLARY VICTORY FUND</td>\n",
    "      <td>35379700</td>\n",
    "    </tr>\n",
    "    <tr>\n",
    "      <th>1</th>\n",
    "      <td>EXECUTIVE</td>\n",
    "      <td>BLOOMBERG, MICHAEL R.</td>\n",
    "      <td>21665124</td>\n",
    "    </tr>\n",
    "    <tr>\n",
    "      <th>2</th>\n",
    "      <td>PRESIDENT/CEO</td>\n",
    "      <td>TRUMP, DONALD J.</td>\n",
    "      <td>18633157</td>\n",
    "    </tr>\n",
    "    <tr>\n",
    "      <th>3</th>\n",
    "      <td>CHAIRMAN</td>\n",
    "      <td>SOROS, GEORGE</td>\n",
    "      <td>17281093</td>\n",
    "    </tr>\n",
    "    <tr>\n",
    "      <th>4</th>\n",
    "      <td>PHILANTHROPIST</td>\n",
    "      <td>SIMONS, JAMES</td>\n",
    "      <td>11032000</td>\n",
    "    </tr>\n",
    "    <tr>\n",
    "      <th>5</th>\n",
    "      <td>PRESIDENT</td>\n",
    "      <td>SIMONS, JAMES H.</td>\n",
    "      <td>10525000</td>\n",
    "    </tr>\n",
    "    <tr>\n",
    "      <th>6</th>\n",
    "      <td></td>\n",
    "      <td>C.V. STARR &amp; CO INC</td>\n",
    "      <td>10000000</td>\n",
    "    </tr>\n",
    "    <tr>\n",
    "      <th>7</th>\n",
    "      <td>C.E.O.</td>\n",
    "      <td>SINGER, PAUL ELLIOT</td>\n",
    "      <td>5000000</td>\n",
    "    </tr>\n",
    "    <tr>\n",
    "      <th>8</th>\n",
    "      <td></td>\n",
    "      <td>HILLARY ACTION FUND</td>\n",
    "      <td>4950000</td>\n",
    "    </tr>\n",
    "    <tr>\n",
    "      <th>9</th>\n",
    "      <td>C.E.O.</td>\n",
    "      <td>SINGER, PAUL</td>\n",
    "      <td>4500000</td>\n",
    "    </tr>\n",
    "  </tbody>\n",
    "</table>"
   ]
  },
  {
   "cell_type": "code",
   "execution_count": null,
   "metadata": {
    "deletable": false,
    "nbgrader": {
     "cell_type": "code",
     "checksum": "4e71cc7dc7eb4a5ef54925ce8cdf8c9a",
     "grade": false,
     "grade_id": "q2e-answer",
     "locked": false,
     "schema_version": 2,
     "solution": true
    },
    "tags": [
     "student"
    ]
   },
   "outputs": [],
   "source": [
    "# complete the query string\n",
    "query_q2e = '''\n",
    "SELECT \n",
    "    ... AS occupation,\n",
    "    ... AS name,\n",
    "    ... AS total_amount\n",
    "FROM indiv_sample_nyc \n",
    "...\n",
    "...\n",
    "...\n",
    "'''\n",
    "\n",
    "pd.read_sql(query_q2e, engine)"
   ]
  },
  {
   "cell_type": "code",
   "execution_count": null,
   "metadata": {
    "deletable": false,
    "editable": false,
    "nbgrader": {
     "cell_type": "code",
     "checksum": "33f5a4d143f88442171864cd0cb61ac7",
     "grade": true,
     "grade_id": "q2e-tests",
     "locked": true,
     "points": 1,
     "schema_version": 2,
     "solution": false
    },
    "tags": [
     "test",
     "q02e"
    ]
   },
   "outputs": [],
   "source": [
    "res = pd.read_sql(query_q2e, engine)\n",
    "assert res.shape == (10, 3)\n",
    "assert all(res == res.sort_values('total_amount', ascending=False))\n",
    "\n",
    "assert set(list(res[\"total_amount\"].astype(int))) == set([35379700, 21665124, 18633157, 17281093, 11032000, 10525000,\n",
    "       10000000,  5000000,  4950000,  4500000])\n",
    "assert set(list(res[\"occupation\"])).issuperset(set(['', 'EXECUTIVE', 'PRESIDENT/CEO', 'CHAIRMAN', 'PHILANTHROPIST',\n",
    "       'PRESIDENT', '', 'C.E.O.', '', 'C.E.O.']))"
   ]
  },
  {
   "cell_type": "markdown",
   "metadata": {
    "deletable": false,
    "editable": false,
    "nbgrader": {
     "cell_type": "markdown",
     "checksum": "7ed0fe793ed6b9d70e96673adf6c18b0",
     "grade": false,
     "grade_id": "q2f",
     "locked": true,
     "schema_version": 2,
     "solution": false
    }
   },
   "source": [
    "### Question 2f\n",
    "\n",
    "Let's now examine the **average** of the **total contribution** for each person registered within an occupation. Note we will need to do this in two steps.  We will first need to compute the total contributions for each user and group and then average the totals across groups.  Use the following nested query template to answer this question. Restrict the final output to occupations that have more than 5 individuals.  Display the top 10 results order the results by the average amount in descending order and break ties with the occupation in ascending order. \n",
    "\n",
    "Your output should look similar to:\n",
    "\n",
    "<table border=\"1\" class=\"dataframe\">\n",
    "  <thead>\n",
    "    <tr style=\"text-align: right;\">\n",
    "      <th></th>\n",
    "      <th>occupation</th>\n",
    "      <th>amount</th>\n",
    "      <th>count</th>\n",
    "    </tr>\n",
    "  </thead>\n",
    "  <tbody>\n",
    "    <tr>\n",
    "      <th>0</th>\n",
    "      <td>BIOMEDICAL RESEARCH</td>\n",
    "      <td>737091.666667</td>\n",
    "      <td>6</td>\n",
    "    </tr>\n",
    "    <tr>\n",
    "      <th>1</th>\n",
    "      <td>PRESIDENT/CEO</td>\n",
    "      <td>677609.500000</td>\n",
    "      <td>28</td>\n",
    "    </tr>\n",
    "    <tr>\n",
    "      <th>2</th>\n",
    "      <td>C.E.O.</td>\n",
    "      <td>392776.400000</td>\n",
    "      <td>25</td>\n",
    "    </tr>\n",
    "    <tr>\n",
    "      <th>3</th>\n",
    "      <td>CANDIDATE</td>\n",
    "      <td>210859.285714</td>\n",
    "      <td>7</td>\n",
    "    </tr>\n",
    "    <tr>\n",
    "      <th>4</th>\n",
    "      <td>CHAIRMAN AND CHIEF EXECUTIVE OFFICER</td>\n",
    "      <td>159750.000000</td>\n",
    "      <td>7</td>\n",
    "    </tr>\n",
    "    <tr>\n",
    "      <th>5</th>\n",
    "      <td>FOUNDER &amp; CEO</td>\n",
    "      <td>144551.651163</td>\n",
    "      <td>43</td>\n",
    "    </tr>\n",
    "    <tr>\n",
    "      <th>6</th>\n",
    "      <td>PHILANTHROPIST</td>\n",
    "      <td>112741.118644</td>\n",
    "      <td>118</td>\n",
    "    </tr>\n",
    "    <tr>\n",
    "      <th>7</th>\n",
    "      <td>FUND MANAGER</td>\n",
    "      <td>102796.052632</td>\n",
    "      <td>19</td>\n",
    "    </tr>\n",
    "    <tr>\n",
    "      <th>8</th>\n",
    "      <td>GROUP PRESIDENT</td>\n",
    "      <td>80817.857143</td>\n",
    "      <td>7</td>\n",
    "    </tr>\n",
    "    <tr>\n",
    "      <th>9</th>\n",
    "      <td>MUSIC PRODUCER</td>\n",
    "      <td>63192.500000</td>\n",
    "      <td>10</td>\n",
    "    </tr>\n",
    "  </tbody>\n",
    "</table>"
   ]
  },
  {
   "cell_type": "code",
   "execution_count": null,
   "metadata": {
    "deletable": false,
    "nbgrader": {
     "cell_type": "code",
     "checksum": "148fb79d11a490f602de5c0a1f0ee236",
     "grade": false,
     "grade_id": "q2f-answer",
     "locked": false,
     "schema_version": 2,
     "solution": true
    },
    "tags": [
     "student"
    ]
   },
   "outputs": [],
   "source": [
    "# complete the query string\n",
    "query_q2f = '''\n",
    "SELECT occupation, avg(total_amount) AS amount, count(*) AS count\n",
    "FROM (\n",
    "    SELECT ..., ..., ... AS total_amount\n",
    "    FROM indiv_sample_nyc \n",
    "    GROUP BY ...\n",
    ") AS total_contributions\n",
    "GROUP BY ...\n",
    "HAVING ...\n",
    "ORDER BY ...\n",
    "LIMIT ...\n",
    "'''\n",
    "\n",
    "pd.read_sql(query_q2f, engine)"
   ]
  },
  {
   "cell_type": "code",
   "execution_count": null,
   "metadata": {
    "deletable": false,
    "editable": false,
    "nbgrader": {
     "cell_type": "code",
     "checksum": "8f54829a5dcfa7270c1e2366ec000a84",
     "grade": true,
     "grade_id": "q2f-tests",
     "locked": true,
     "points": 1,
     "schema_version": 2,
     "solution": false
    },
    "tags": [
     "test",
     "q02f"
    ]
   },
   "outputs": [],
   "source": [
    "res = pd.read_sql(query_q2f,engine)\n",
    "assert res.shape == (10, 3)\n",
    "assert all(res == res.sort_values('amount', ascending=False))\n",
    "assert set(list(res[\"amount\"].astype(int))) == set([737091, 677609, 392776, 210859, 159750, 144551, 112741, 102796,\n",
    "        80817,  63192])\n",
    "assert set(list(res[\"occupation\"])) == set(['BIOMEDICAL RESEARCH', 'PRESIDENT/CEO', 'C.E.O.', 'CANDIDATE',\n",
    "       'CHAIRMAN AND CHIEF EXECUTIVE OFFICER', 'FOUNDER & CEO',\n",
    "       'PHILANTHROPIST', 'FUND MANAGER', 'GROUP PRESIDENT',\n",
    "       'MUSIC PRODUCER'])"
   ]
  },
  {
   "cell_type": "markdown",
   "metadata": {
    "deletable": false,
    "editable": false,
    "nbgrader": {
     "cell_type": "markdown",
     "checksum": "3d7d39e54fd58ee22499062f40e3e866",
     "grade": false,
     "grade_id": "q3",
     "locked": true,
     "schema_version": 2,
     "solution": false
    }
   },
   "source": [
    "### Question 3: Committees and Parties\n",
    "Now let's examine the committees that appear in the `indiv_sample_nyc` table, with the information from the `comm` table. First let's take a look of the `comm` table."
   ]
  },
  {
   "cell_type": "code",
   "execution_count": null,
   "metadata": {
    "deletable": false,
    "editable": false,
    "nbgrader": {
     "cell_type": "code",
     "checksum": "28776d668d924ea08825fee05c6cc98e",
     "grade": false,
     "grade_id": "q3-code",
     "locked": true,
     "schema_version": 2,
     "solution": false
    }
   },
   "outputs": [],
   "source": [
    "pd.read_sql(\"select * from comm limit 2\", engine)"
   ]
  },
  {
   "cell_type": "markdown",
   "metadata": {
    "deletable": false,
    "editable": false,
    "nbgrader": {
     "cell_type": "markdown",
     "checksum": "114380565a7fd1c7dfa5463d7c2591bf",
     "grade": false,
     "grade_id": "q3a",
     "locked": true,
     "schema_version": 2,
     "solution": false
    }
   },
   "source": [
    "### Questions 3a\n",
    "Let's first groupby the transactions in the `indiv_sample_nyc` table with `cmte_id` column (committee id), then count how many transactions and how much total amount of contribution there are for each `cmte_id`. Select the top 5 committees order by the transactions count.\n",
    "\n",
    "Your output should look similar to:\n",
    "\n",
    "<table border=\"1\" class=\"dataframe\">\n",
    "  <thead>\n",
    "    <tr style=\"text-align: right;\">\n",
    "      <th></th>\n",
    "      <th>committee_id</th>\n",
    "      <th>total_amount</th>\n",
    "      <th>count</th>\n",
    "    </tr>\n",
    "  </thead>\n",
    "  <tbody>\n",
    "    <tr>\n",
    "      <th>0</th>\n",
    "      <td>C00401224</td>\n",
    "      <td>20442777</td>\n",
    "      <td>132822</td>\n",
    "    </tr>\n",
    "    <tr>\n",
    "      <th>1</th>\n",
    "      <td>C00575795</td>\n",
    "      <td>25099091</td>\n",
    "      <td>110657</td>\n",
    "    </tr>\n",
    "    <tr>\n",
    "      <th>2</th>\n",
    "      <td>C00000935</td>\n",
    "      <td>6989835</td>\n",
    "      <td>36237</td>\n",
    "    </tr>\n",
    "    <tr>\n",
    "      <th>3</th>\n",
    "      <td>C00577130</td>\n",
    "      <td>2361892</td>\n",
    "      <td>30504</td>\n",
    "    </tr>\n",
    "    <tr>\n",
    "      <th>4</th>\n",
    "      <td>C00586537</td>\n",
    "      <td>63242107</td>\n",
    "      <td>23295</td>\n",
    "    </tr>\n",
    "  </tbody>\n",
    "</table>"
   ]
  },
  {
   "cell_type": "code",
   "execution_count": null,
   "metadata": {
    "deletable": false,
    "nbgrader": {
     "cell_type": "code",
     "checksum": "fdb65781441306fe51bc39eb5e863976",
     "grade": false,
     "grade_id": "q3a-answer",
     "locked": false,
     "schema_version": 2,
     "solution": true
    },
    "tags": [
     "student"
    ]
   },
   "outputs": [],
   "source": [
    "query_q3a='''\n",
    "SELECT\n",
    "    ... AS committee_id,\n",
    "    ... AS total_amount,\n",
    "    ... AS count\n",
    "FROM indiv_sample_nyc\n",
    "...\n",
    "...\n",
    "...\n",
    "'''\n",
    "\n",
    "pd.read_sql(query_q3a, engine)"
   ]
  },
  {
   "cell_type": "code",
   "execution_count": null,
   "metadata": {
    "deletable": false,
    "editable": false,
    "nbgrader": {
     "cell_type": "code",
     "checksum": "13d9630763d7e0a684dba59f6d0076b1",
     "grade": true,
     "grade_id": "q3a-tests",
     "locked": true,
     "points": 1,
     "schema_version": 2,
     "solution": false
    },
    "tags": [
     "test",
     "q03a"
    ]
   },
   "outputs": [],
   "source": [
    "res = pd.read_sql(query_q3a,engine)\n",
    "assert res.shape == (5, 3)\n",
    "assert all(res == res.sort_values('count', ascending=False))\n",
    "assert set(res['total_amount'].unique()) == set([20442777, 25099091,  6989835,  2361892, 63242107])"
   ]
  },
  {
   "cell_type": "markdown",
   "metadata": {
    "deletable": false,
    "editable": false,
    "nbgrader": {
     "cell_type": "markdown",
     "checksum": "cd8fc856153e08a3a4027da485869859",
     "grade": false,
     "grade_id": "q3b",
     "locked": true,
     "schema_version": 2,
     "solution": false
    }
   },
   "source": [
    "### Questions 3b\n",
    "Only showing the committee id doesn't tell us much. Let's also select the committee information by joining with the `comm` table using the `cmite_id` field.\n",
    "\n",
    "You will extend the query we have from q3a and then perform a `JOIN` with the `comm` table. Select extra committee information such as committee name, party_affiliation, city and state from `comm`. Select the top 10 committees order by transaction count.\n",
    "\n",
    "Your output should look like the following:\n",
    "\n",
    "<table border=\"1\" class=\"dataframe\">\n",
    "  <thead>\n",
    "    <tr style=\"text-align: right;\">\n",
    "      <th></th>\n",
    "      <th>cmte_name</th>\n",
    "      <th>party_affiliation</th>\n",
    "      <th>city</th>\n",
    "      <th>state</th>\n",
    "      <th>total_amount</th>\n",
    "      <th>count</th>\n",
    "    </tr>\n",
    "  </thead>\n",
    "  <tbody>\n",
    "    <tr>\n",
    "      <th>0</th>\n",
    "      <td>ACTBLUE</td>\n",
    "      <td></td>\n",
    "      <td>SOMERVILLE</td>\n",
    "      <td>MA</td>\n",
    "      <td>20442777</td>\n",
    "      <td>132822</td>\n",
    "    </tr>\n",
    "    <tr>\n",
    "      <th>1</th>\n",
    "      <td>HILLARY FOR AMERICA</td>\n",
    "      <td>DEM</td>\n",
    "      <td>NEW YORK</td>\n",
    "      <td>NY</td>\n",
    "      <td>25099091</td>\n",
    "      <td>110657</td>\n",
    "    </tr>\n",
    "    <tr>\n",
    "      <th>2</th>\n",
    "      <td>DCCC</td>\n",
    "      <td>DEM</td>\n",
    "      <td>WASHINGTON</td>\n",
    "      <td>DC</td>\n",
    "      <td>6989835</td>\n",
    "      <td>36237</td>\n",
    "    </tr>\n",
    "    <tr>\n",
    "      <th>3</th>\n",
    "      <td>BERNIE 2016</td>\n",
    "      <td>DEM</td>\n",
    "      <td>BURLINGTON</td>\n",
    "      <td>VT</td>\n",
    "      <td>2361892</td>\n",
    "      <td>30504</td>\n",
    "    </tr>\n",
    "    <tr>\n",
    "      <th>4</th>\n",
    "      <td>HILLARY VICTORY FUND</td>\n",
    "      <td></td>\n",
    "      <td>NEW YORK</td>\n",
    "      <td>NY</td>\n",
    "      <td>63242107</td>\n",
    "      <td>23295</td>\n",
    "    </tr>\n",
    "    <tr>\n",
    "      <th>5</th>\n",
    "      <td>DSCC</td>\n",
    "      <td>DEM</td>\n",
    "      <td>WASHINGTON</td>\n",
    "      <td>DC</td>\n",
    "      <td>7969344</td>\n",
    "      <td>13690</td>\n",
    "    </tr>\n",
    "    <tr>\n",
    "      <th>6</th>\n",
    "      <td>JPMORGAN CHASE &amp; CO. FEDERAL POLITICAL ACTION ...</td>\n",
    "      <td></td>\n",
    "      <td>WASHINGTON</td>\n",
    "      <td>DC</td>\n",
    "      <td>750564</td>\n",
    "      <td>13007</td>\n",
    "    </tr>\n",
    "    <tr>\n",
    "      <th>7</th>\n",
    "      <td>END CITIZENS UNITED</td>\n",
    "      <td></td>\n",
    "      <td>WASHINGTON</td>\n",
    "      <td>DC</td>\n",
    "      <td>447766</td>\n",
    "      <td>12795</td>\n",
    "    </tr>\n",
    "    <tr>\n",
    "      <th>8</th>\n",
    "      <td>PFIZER INC. PAC</td>\n",
    "      <td>UNK</td>\n",
    "      <td>NEW YORK</td>\n",
    "      <td>NY</td>\n",
    "      <td>757750</td>\n",
    "      <td>11166</td>\n",
    "    </tr>\n",
    "    <tr>\n",
    "      <th>9</th>\n",
    "      <td>MORGAN STANLEY POLITICAL ACTION COMMITTEE</td>\n",
    "      <td></td>\n",
    "      <td>NEW YORK</td>\n",
    "      <td>NY</td>\n",
    "      <td>783278</td>\n",
    "      <td>11126</td>\n",
    "    </tr>\n",
    "  </tbody>\n",
    "</table>"
   ]
  },
  {
   "cell_type": "code",
   "execution_count": null,
   "metadata": {
    "deletable": false,
    "nbgrader": {
     "cell_type": "code",
     "checksum": "6e2c4ab78eb8fff77fd5eb6bfdafedbc",
     "grade": false,
     "grade_id": "q3b-answer",
     "locked": false,
     "schema_version": 2,
     "solution": true
    },
    "tags": [
     "student"
    ]
   },
   "outputs": [],
   "source": [
    "query_q3b = '''\n",
    "...\n",
    "'''\n",
    "\n",
    "pd.read_sql(query_q3b, engine)"
   ]
  },
  {
   "cell_type": "code",
   "execution_count": null,
   "metadata": {
    "deletable": false,
    "editable": false,
    "nbgrader": {
     "cell_type": "code",
     "checksum": "0c1d2b8d10aeb71f1c9b643b5820e9a2",
     "grade": true,
     "grade_id": "q3b-tests",
     "locked": true,
     "points": 1,
     "schema_version": 2,
     "solution": false
    },
    "tags": [
     "test",
     "q03b"
    ]
   },
   "outputs": [],
   "source": [
    "res = pd.read_sql(query_q3b,engine)[[\"cmte_name\", \"count\"]]\n",
    "assert res.shape == (10, 2)\n",
    "assert all(res == res.sort_values('count', ascending=False))\n",
    "assert set(res['count'].unique()) == set([132822, 110657,  36237,  30504,  23295,  13690,  13007,  12795,\n",
    "        11166,  11126])"
   ]
  },
  {
   "cell_type": "markdown",
   "metadata": {},
   "source": [
    "## Submission\n",
    "\n",
    "You're almost done!\n",
    "\n",
    "Before submitting this assignment, ensure that you have:\n",
    "\n",
    "1. Restarted the Kernel (in the menubar, select Kernel$\\rightarrow$Restart & Run All)\n",
    "2. Validated the notebook by clicking the \"Validate\" button.\n",
    "\n",
    "Then,\n",
    "\n",
    "1. **Submit** the assignment via the Assignments tab in **Datahub** \n",
    "1. **Upload and tag** the manually reviewed portions of the assignment on **Gradescope**"
   ]
  }
 ],
 "metadata": {
  "anaconda-cloud": {},
  "kernelspec": {
   "display_name": "Python 3",
   "language": "python",
   "name": "python3"
  },
  "language_info": {
   "codemirror_mode": {
    "name": "ipython",
    "version": 3
   },
   "file_extension": ".py",
   "mimetype": "text/x-python",
   "name": "python",
   "nbconvert_exporter": "python",
   "pygments_lexer": "ipython3",
   "version": "3.6.4"
  },
  "timetravel": {
   "allowedContentTypes": [
    "text/plain"
   ],
   "enabled": false,
   "version": "1.0"
  }
 },
 "nbformat": 4,
 "nbformat_minor": 1
}

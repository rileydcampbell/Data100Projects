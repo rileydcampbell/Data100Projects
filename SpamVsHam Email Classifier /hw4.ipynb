{
 "cells": [
  {
   "cell_type": "markdown",
   "metadata": {},
   "source": [
    "Before you turn this problem in, make sure everything runs as expected. First, **restart the kernel** (in the menubar, select Kernel$\\rightarrow$Restart) and then **run all cells** (in the menubar, select Cell$\\rightarrow$Run All).\n",
    "\n",
    "Make sure you fill in any place that says `YOUR CODE HERE` or \"YOUR ANSWER HERE\", as well as your name and collaborators below:"
   ]
  },
  {
   "cell_type": "code",
   "execution_count": 1,
   "metadata": {},
   "outputs": [],
   "source": [
    "NAME = \"Riley Campbell\"\n",
    "COLLABORATORS = \"\""
   ]
  },
  {
   "cell_type": "markdown",
   "metadata": {},
   "source": [
    "---"
   ]
  },
  {
   "cell_type": "markdown",
   "metadata": {
    "deletable": false,
    "editable": false,
    "nbgrader": {
     "cell_type": "markdown",
     "checksum": "9af75f55a2c827348e5cdfbb4668f510",
     "grade": false,
     "grade_id": "proj2",
     "locked": true,
     "schema_version": 2,
     "solution": false
    }
   },
   "source": [
    "# Homework 4: Spam/Ham Classification\n",
    "## Feature Engineering, Logistic Regression, Cross Validation\n",
    "## Due Date: 11/1/18, 11:59PM\n",
    "## Course Policies\n",
    "\n",
    "Here are some important course policies. These are also located at\n",
    "http://www.ds100.org/fa18/.\n",
    "\n",
    "**Collaboration Policy**\n",
    "\n",
    "Data science is a collaborative activity. While you may talk with others about\n",
    "the homework, we ask that you **write your solutions individually**. If you do\n",
    "discuss the assignments with others please **include their names** at the top\n",
    "of your solution.\n",
    "\n",
    "## This Assignment\n",
    "In this homework, you will use what you've learned in class to create a classifier that can distinguish spam (junk or commercial or bulk) emails from ham (non-spam) emails. In addition to providing some skeleton code to fill in, we will evaluate your work based on your model's accuracy and your written responses in this notebook.\n",
    "\n",
    "After this homework, you should feel comfortable with the following:\n",
    "\n",
    "- Feature engineering with text data\n",
    "- Using sklearn libraries to process data and fit models\n",
    "- Validating the performance of your model and minimize overfitting\n",
    "- Generating and analyzing precision recall curves\n",
    "\n",
    "## Warning\n",
    "We've tried our best to filter the data for anything blatantly offensive as best as we can, but unfortunately there may still be some examples you may find in poor taste. If you encounter these examples and believe it is inappropriate for students, please let a TA know and we will try to remove it for future semesters. Thanks for your understanding!\n",
    "\n",
    "## Regarding Submissions - IMPORTANT, PLEASE READ\n",
    "\n",
    "\n",
    "For this assignment and future assignments (homework and projects) you will also submit your free response and plotting questions to Gradescope. To do this, you can download as PDF; there are two ways to do this:\n",
    "\n",
    " \n",
    "\n",
    "1. File > Print Preview ----> Save website as PDF\n",
    "2. Control/Command + P ----> Save website as PDF\n",
    " \n",
    "\n",
    "If you are having trouble with text being cut off in the generated PDF:\n",
    "\n",
    "- For cells containing text surrounded in triple quotes (e.g. \"\"\" Hello world \"\"\"), you can press enter in the middle of the string to push the text to a new line so that all the text stays within the box.\n",
    "\n",
    "\n",
    "You are responsible for submitting and tagging your answers in Gradescope. For each free response and plotting question, please include:\n",
    "\n",
    "1. Relevant code used to generate the plot or inform your insights\n",
    "2. The written free response or plot"
   ]
  },
  {
   "cell_type": "markdown",
   "metadata": {
    "deletable": false,
    "editable": false,
    "nbgrader": {
     "cell_type": "markdown",
     "checksum": "13d4b9efb57a66ecdde4f5c2e2bcc526",
     "grade": false,
     "grade_id": "p1",
     "locked": true,
     "schema_version": 2,
     "solution": false
    }
   },
   "source": [
    "# Part I - Initial Analysis"
   ]
  },
  {
   "cell_type": "code",
   "execution_count": 2,
   "metadata": {
    "deletable": false,
    "editable": false,
    "nbgrader": {
     "cell_type": "code",
     "checksum": "86334642abec944a9d6c8299e6ba5896",
     "grade": false,
     "grade_id": "imports",
     "locked": true,
     "schema_version": 2,
     "solution": false
    }
   },
   "outputs": [],
   "source": [
    "import numpy as np\n",
    "import pandas as pd\n",
    "\n",
    "import matplotlib.pyplot as plt\n",
    "%matplotlib inline\n",
    "\n",
    "import seaborn as sns\n",
    "sns.set(style = \"whitegrid\", \n",
    "        color_codes = True,\n",
    "        font_scale = 1.5)"
   ]
  },
  {
   "cell_type": "markdown",
   "metadata": {
    "deletable": false,
    "editable": false,
    "nbgrader": {
     "cell_type": "markdown",
     "checksum": "df0f28ab27448e018bd4f70f24bdc0b7",
     "grade": false,
     "grade_id": "loading",
     "locked": true,
     "schema_version": 2,
     "solution": false
    }
   },
   "source": [
    "### Loading in the Data\n",
    "\n",
    "The dataset consists of email messages and their labels (0 for ham, 1 for spam). \n",
    "\n",
    "Your labeled dataset contains 8348 labeled examples, and the test set contains 1000 unlabeled examples.\n",
    "\n",
    "Run the following cells to load in the data into DataFrames.\n",
    "\n",
    "The `train` DataFrame contains labeled data that you will use to train your model. It contains four columns:\n",
    "\n",
    "1. `id`: An identifier for the training example.\n",
    "1. `subject`: The subject of the email\n",
    "1. `email`: The text of the email.\n",
    "1. `spam`: 1 if the email was spam, 0 if the email was ham (not spam).\n",
    "\n",
    "The `test` DataFrame contains another set of 1000 unlabeled examples. You will predict labels for these examples and submit your predictions to Kaggle for evaluation."
   ]
  },
  {
   "cell_type": "code",
   "execution_count": 3,
   "metadata": {
    "deletable": false,
    "editable": false,
    "nbgrader": {
     "cell_type": "code",
     "checksum": "5876a4c8d3229a9416c59b83ab704dfe",
     "grade": false,
     "grade_id": "fetch-data",
     "locked": true,
     "schema_version": 2,
     "solution": false
    }
   },
   "outputs": [
    {
     "name": "stdout",
     "output_type": "stream",
     "text": [
      "Using version already downloaded: Wed Oct 31 21:36:13 2018\n",
      "MD5 hash of file: 0380c4cf72746622947b9ca5db9b8be8\n",
      "Using version already downloaded: Wed Oct 31 21:36:13 2018\n",
      "MD5 hash of file: a2e7abd8c7d9abf6e6fafc1d1f9ee6bf\n"
     ]
    },
    {
     "data": {
      "text/html": [
       "<div>\n",
       "<style scoped>\n",
       "    .dataframe tbody tr th:only-of-type {\n",
       "        vertical-align: middle;\n",
       "    }\n",
       "\n",
       "    .dataframe tbody tr th {\n",
       "        vertical-align: top;\n",
       "    }\n",
       "\n",
       "    .dataframe thead th {\n",
       "        text-align: right;\n",
       "    }\n",
       "</style>\n",
       "<table border=\"1\" class=\"dataframe\">\n",
       "  <thead>\n",
       "    <tr style=\"text-align: right;\">\n",
       "      <th></th>\n",
       "      <th>id</th>\n",
       "      <th>subject</th>\n",
       "      <th>email</th>\n",
       "      <th>spam</th>\n",
       "    </tr>\n",
       "  </thead>\n",
       "  <tbody>\n",
       "    <tr>\n",
       "      <th>0</th>\n",
       "      <td>0</td>\n",
       "      <td>Subject: A&amp;L Daily to be auctioned in bankrupt...</td>\n",
       "      <td>url: http://boingboing.net/#85534171\\n date: n...</td>\n",
       "      <td>0</td>\n",
       "    </tr>\n",
       "    <tr>\n",
       "      <th>1</th>\n",
       "      <td>1</td>\n",
       "      <td>Subject: Wired: \"Stronger ties between ISPs an...</td>\n",
       "      <td>url: http://scriptingnews.userland.com/backiss...</td>\n",
       "      <td>0</td>\n",
       "    </tr>\n",
       "    <tr>\n",
       "      <th>2</th>\n",
       "      <td>2</td>\n",
       "      <td>Subject: It's just too small                  ...</td>\n",
       "      <td>&lt;html&gt;\\n &lt;head&gt;\\n &lt;/head&gt;\\n &lt;body&gt;\\n &lt;font siz...</td>\n",
       "      <td>1</td>\n",
       "    </tr>\n",
       "    <tr>\n",
       "      <th>3</th>\n",
       "      <td>3</td>\n",
       "      <td>Subject: liberal defnitions\\n</td>\n",
       "      <td>depends on how much over spending vs. how much...</td>\n",
       "      <td>0</td>\n",
       "    </tr>\n",
       "    <tr>\n",
       "      <th>4</th>\n",
       "      <td>4</td>\n",
       "      <td>Subject: RE: [ILUG] Newbie seeks advice - Suse...</td>\n",
       "      <td>hehe sorry but if you hit caps lock twice the ...</td>\n",
       "      <td>0</td>\n",
       "    </tr>\n",
       "  </tbody>\n",
       "</table>\n",
       "</div>"
      ],
      "text/plain": [
       "   id                                            subject  \\\n",
       "0   0  Subject: A&L Daily to be auctioned in bankrupt...   \n",
       "1   1  Subject: Wired: \"Stronger ties between ISPs an...   \n",
       "2   2  Subject: It's just too small                  ...   \n",
       "3   3                      Subject: liberal defnitions\\n   \n",
       "4   4  Subject: RE: [ILUG] Newbie seeks advice - Suse...   \n",
       "\n",
       "                                               email  spam  \n",
       "0  url: http://boingboing.net/#85534171\\n date: n...     0  \n",
       "1  url: http://scriptingnews.userland.com/backiss...     0  \n",
       "2  <html>\\n <head>\\n </head>\\n <body>\\n <font siz...     1  \n",
       "3  depends on how much over spending vs. how much...     0  \n",
       "4  hehe sorry but if you hit caps lock twice the ...     0  "
      ]
     },
     "execution_count": 3,
     "metadata": {},
     "output_type": "execute_result"
    }
   ],
   "source": [
    "from utils import fetch_and_cache_gdrive\n",
    "fetch_and_cache_gdrive('1SCASpLZFKCp2zek-toR3xeKX3DZnBSyp', 'train.csv')\n",
    "fetch_and_cache_gdrive('1ZDFo9OTF96B5GP2Nzn8P8-AL7CTQXmC0', 'test.csv')\n",
    "\n",
    "original_training_data = pd.read_csv('data/train.csv')\n",
    "test = pd.read_csv('data/test.csv')\n",
    "\n",
    "# Convert the emails to lower case as a first step to processing the text\n",
    "original_training_data['email'] = original_training_data['email'].str.lower()\n",
    "test['email'] = test['email'].str.lower()\n",
    "\n",
    "original_training_data.head()"
   ]
  },
  {
   "cell_type": "markdown",
   "metadata": {
    "deletable": false,
    "editable": false,
    "nbgrader": {
     "cell_type": "markdown",
     "checksum": "483188ba617ba3c37eb18d523fb4ff06",
     "grade": false,
     "grade_id": "cell-34476156ed73b800",
     "locked": true,
     "schema_version": 2,
     "solution": false
    }
   },
   "source": [
    "# Question 1a\n",
    "First let's check if our data contains any nan values. *Fill in the cell below to print whether any of the columns contain nan values.* If there are nan values, replace them with the appropriate filler values. In other words, a nan value in the subject column should be replaced with an empty string. \n",
    "\n",
    "Note that while there are no nan values in the spam column, we should be careful when replacing nan values when they are the labels. Doing so without consideration may introduce significant bias into our model when fitting."
   ]
  },
  {
   "cell_type": "code",
   "execution_count": 4,
   "metadata": {
    "deletable": false,
    "nbgrader": {
     "cell_type": "code",
     "checksum": "eb08d466c90b1046fb14f9c36dce3e35",
     "grade": false,
     "grade_id": "cell-b1fb39d9b651ca1b",
     "locked": false,
     "schema_version": 2,
     "solution": true
    }
   },
   "outputs": [
    {
     "name": "stdout",
     "output_type": "stream",
     "text": [
      "Nan in ID column:  False\n",
      "Nan in subject column:  True\n",
      "Nan in email columns:  False\n",
      "Nan in spam columns:  False\n"
     ]
    }
   ],
   "source": [
    "# YOUR CODE HERE\n",
    "# raise NotImplementedError()\n",
    "print(\"Nan in ID column: \", original_training_data['id'].isnull().values.any())\n",
    "print(\"Nan in subject column: \", original_training_data['subject'].isnull().values.any())\n",
    "print(\"Nan in email columns: \", original_training_data['email'].isnull().values.any())\n",
    "print(\"Nan in spam columns: \", original_training_data['spam'].isnull().values.any())\n",
    "\n",
    "original_training_data.iloc[:,0].fillna(\"\", inplace=True)\n",
    "original_training_data.iloc[:,1].fillna(\"\", inplace=True)\n",
    "original_training_data.iloc[:,2].fillna(\"\", inplace=True)\n",
    "\n"
   ]
  },
  {
   "cell_type": "markdown",
   "metadata": {
    "deletable": false,
    "editable": false,
    "nbgrader": {
     "cell_type": "markdown",
     "checksum": "f286b61079c1a8a3cd4d813198cda572",
     "grade": false,
     "grade_id": "q1",
     "locked": true,
     "schema_version": 2,
     "solution": false
    }
   },
   "source": [
    "# Question 1b\n",
    "In the cell below, print the text of the first ham and the first spam email in the original training set. Then, discuss one thing you notice that is different between the two that might relate to the identification of spam."
   ]
  },
  {
   "cell_type": "code",
   "execution_count": 5,
   "metadata": {
    "deletable": false,
    "nbgrader": {
     "cell_type": "code",
     "checksum": "ff10a1144d9c5bff85dc2274907ce32c",
     "grade": false,
     "grade_id": "q1-answer",
     "locked": false,
     "schema_version": 2,
     "solution": true
    }
   },
   "outputs": [
    {
     "name": "stdout",
     "output_type": "stream",
     "text": [
      "First Ham:  url: http://boingboing.net/#85534171\n",
      " date: not supplied\n",
      " \n",
      " arts and letters daily, a wonderful and dense blog, has folded up its tent due \n",
      " to the bankruptcy of its parent company. a&l daily will be auctioned off by the \n",
      " receivers. link[1] discuss[2] (_thanks, misha!_)\n",
      " \n",
      " [1] http://www.aldaily.com/\n",
      " [2] http://www.quicktopic.com/boing/h/zlfterjnd6jf\n",
      " \n",
      " \n",
      "\n",
      "First Spam:  <html>\n",
      " <head>\n",
      " </head>\n",
      " <body>\n",
      " <font size=3d\"4\"><b> a man endowed with a 7-8\" hammer is simply<br>\n",
      "  better equipped than a man with a 5-6\"hammer. <br>\n",
      " <br>would you rather have<br>more than enough to get the job done or fall =\n",
      " short. it's totally up<br>to you. our methods are guaranteed to increase y=\n",
      " our size by 1-3\"<br> <a href=3d\"http://209.163.187.47/cgi-bin/index.php?10=\n",
      " 004\">come in here and see how</a>\n",
      " </body>\n",
      " </html>\n",
      " \n",
      " \n",
      " \n",
      "\n"
     ]
    }
   ],
   "source": [
    "# Print the text of the first ham and the first spam emails. Then, fill in your response in the q01 variable:\n",
    "print('First Ham: ',list(original_training_data[original_training_data['spam'] == 0]['email'])[0])\n",
    "print('First Spam: ',list(original_training_data[original_training_data['spam'] == 1]['email'])[0])\n",
    "first_ham = list(original_training_data[original_training_data['spam'] == 0]['email'])[0]\n",
    "first_spam = list(original_training_data[original_training_data['spam'] == 1]['email'])[0]\n",
    "\n",
    "\n",
    "# YOUR CODE HERE\n",
    "# raise NotImplementedError()"
   ]
  },
  {
   "cell_type": "code",
   "execution_count": 6,
   "metadata": {
    "deletable": false,
    "editable": false,
    "nbgrader": {
     "cell_type": "code",
     "checksum": "115ba1cae1be0d4c7a5e9b91526fcb19",
     "grade": true,
     "grade_id": "q1-tests",
     "locked": true,
     "points": 1,
     "schema_version": 2,
     "solution": false
    }
   },
   "outputs": [],
   "source": [
    "# This is a cell with just a comment but don't delete me if you want to get credit."
   ]
  },
  {
   "cell_type": "markdown",
   "metadata": {
    "deletable": false,
    "nbgrader": {
     "cell_type": "markdown",
     "checksum": "cc6c8ddb4b03754a64382c725dafc5b0",
     "grade": true,
     "grade_id": "q1-written",
     "locked": false,
     "points": 2,
     "schema_version": 2,
     "solution": true
    },
    "tags": [
     "solution",
     "written",
     "q01"
    ]
   },
   "source": [
    "One of the feature I notice right off the bat is that the ham email signs off with the sender's name making it seem more personal and like it came from an acutal human. I also notice that the structure of the emails is different. The ham email is text and has links embedded whereas the spam email is an HTML format. "
   ]
  },
  {
   "cell_type": "markdown",
   "metadata": {
    "deletable": false,
    "editable": false,
    "nbgrader": {
     "cell_type": "markdown",
     "checksum": "4dfaf1996c33d0a1ddc557c713c91e61",
     "grade": false,
     "grade_id": "cell-78513403ef52a957",
     "locked": true,
     "schema_version": 2,
     "solution": false
    }
   },
   "source": [
    "## Training Validation Split\n",
    "The training data we downloaded is all the data we have available for both training models and **validating** the models that we train.  We therefore need to split the training data into separate training and validation datsets.  You will need this **validation data** to validate your model once you are finished training. Note that we set the seed (random_state) to 42. This will produce a pseudo-random sequence of random numbers. Do not modify this in the following questions, as our assert statements depend on this random seed."
   ]
  },
  {
   "cell_type": "code",
   "execution_count": 7,
   "metadata": {
    "deletable": false,
    "editable": false,
    "nbgrader": {
     "cell_type": "code",
     "checksum": "0605d0c7e170af8a0dde43b47eda9922",
     "grade": false,
     "grade_id": "cell-873194ed3e686dfb",
     "locked": true,
     "schema_version": 2,
     "solution": false
    }
   },
   "outputs": [],
   "source": [
    "from sklearn.model_selection import train_test_split\n",
    "\n",
    "[train, val] = train_test_split(original_training_data, test_size=0.1, random_state=42)"
   ]
  },
  {
   "cell_type": "markdown",
   "metadata": {
    "deletable": false,
    "editable": false,
    "nbgrader": {
     "cell_type": "markdown",
     "checksum": "78b2a5de9976f0492e4325d88e131a47",
     "grade": false,
     "grade_id": "feat-eng",
     "locked": true,
     "schema_version": 2,
     "solution": false
    }
   },
   "source": [
    "# Basic Feature Engineering\n",
    "\n",
    "We would like to take the text of an email and predict whether the text is ham or spam. This is a *classification* problem, so we can use logistic regression to make a classifier. Recall that to train an logistic regression model we need a numeric feature matrix $\\Phi$ (pronounced phi as in wifi) and corresponding binary labels $Y$.  Unfortunately, our data are text, not numbers. To address this, we can create numeric features derived from the email text and use those features for logistic regression.\n",
    "\n",
    "Each row of $\\Phi$ is derived from one email example. Each column of $\\Phi$  is one feature. We'll guide you through creating a simple feature, and you'll create more interesting ones when you are trying to increase your accuracy."
   ]
  },
  {
   "cell_type": "markdown",
   "metadata": {
    "deletable": false,
    "editable": false,
    "nbgrader": {
     "cell_type": "markdown",
     "checksum": "4a6a1160d34bedff1e1a0859a58bf70e",
     "grade": false,
     "grade_id": "q2",
     "locked": true,
     "schema_version": 2,
     "solution": false
    }
   },
   "source": [
    "# Question 2\n",
    "\n",
    "Create a function called `words_in_texts` that takes in a list of `words` and a pandas Series of email `texts`. It should output a 2-dimensional NumPy array containing one row for each email text. The row should contain either a 0 or a 1 for each word in the list: 0 if the word doesn't appear in the text and 1 if the word does. For example:\n",
    "\n",
    "```python\n",
    ">>> words_in_texts(['hello', 'bye', 'world'], \n",
    "                   pd.Series(['hello', 'hello world hello']))\n",
    "\n",
    "array([[1, 0, 0],\n",
    "       [1, 0, 1]])\n",
    "```"
   ]
  },
  {
   "cell_type": "code",
   "execution_count": 8,
   "metadata": {
    "deletable": false,
    "nbgrader": {
     "cell_type": "code",
     "checksum": "296207c542908dd11c481c4f56585743",
     "grade": false,
     "grade_id": "q2-answer",
     "locked": false,
     "schema_version": 2,
     "solution": true
    },
    "tags": [
     "student"
    ]
   },
   "outputs": [],
   "source": [
    "def words_in_texts(words, texts):\n",
    "    '''\n",
    "    Args:\n",
    "        words (list-like): words to find\n",
    "        texts (Series): strings to search in\n",
    "    \n",
    "    Returns:\n",
    "        NumPy array of 0s and 1s with shape (n, p) where n is the\n",
    "        number of texts and p is the number of words.\n",
    "    '''\n",
    "    indicator_array = np.zeros((len(texts), len(words)))\n",
    "    for word, i in zip(words, range(len(words))):\n",
    "        indicator_array[:,i] = texts.apply(lambda x: any(pd.Series(x).str.contains(word)))\n",
    "    \n",
    "    return indicator_array"
   ]
  },
  {
   "cell_type": "code",
   "execution_count": 9,
   "metadata": {
    "deletable": false,
    "editable": false,
    "nbgrader": {
     "cell_type": "code",
     "checksum": "ea8981a53e9813a83317c9cbb030cde8",
     "grade": true,
     "grade_id": "q2-tests",
     "locked": true,
     "points": 2,
     "schema_version": 2,
     "solution": false
    },
    "tags": [
     "solution"
    ]
   },
   "outputs": [],
   "source": [
    "# If this doesn't error, your function outputs the correct output for this example\n",
    "assert np.allclose(words_in_texts(['hello', 'bye', 'world'], \n",
    "                                  pd.Series(['hello', 'hello world hello'])),\n",
    "                   np.array([[1, 0, 0], \n",
    "                             [1, 0, 1]]))\n",
    "\n",
    "assert np.allclose(words_in_texts(['a', 'b', 'c', 'd', 'e', 'f', 'g'], \n",
    "                                  pd.Series(['a b c d e f g', 'a', 'b', 'c', 'd e f g', 'h', 'a h'])),\n",
    "                   np.array([[1,1,1,1,1,1,1], \n",
    "                             [1,0,0,0,0,0,0],\n",
    "                             [0,1,0,0,0,0,0],\n",
    "                             [0,0,1,0,0,0,0],\n",
    "                             [0,0,0,1,1,1,1],\n",
    "                             [0,0,0,0,0,0,0],\n",
    "                             [1,0,0,0,0,0,0]]))"
   ]
  },
  {
   "cell_type": "markdown",
   "metadata": {
    "deletable": false,
    "editable": false,
    "nbgrader": {
     "cell_type": "markdown",
     "checksum": "2bacca07aa9b367ec84957d0beb41886",
     "grade": false,
     "grade_id": "eda",
     "locked": true,
     "schema_version": 2,
     "solution": false
    }
   },
   "source": [
    "# Basic EDA\n",
    "\n",
    "Now we need to identify some features that allow us to tell spam and ham emails apart. One idea is to compare the distribution of a single feature in spam emails to the distribution of the same feature in ham emails. If the feature is itself a binary indicator, such as whether a certain word occurs in the text, this amounts to comparing the proportion of spam emails with the word to the proportion of ham emails with the word.\n"
   ]
  },
  {
   "cell_type": "markdown",
   "metadata": {
    "deletable": false,
    "editable": false,
    "nbgrader": {
     "cell_type": "markdown",
     "checksum": "3c835b92ce7475c8ed05494ce3c3f21d",
     "grade": false,
     "grade_id": "q3a",
     "locked": true,
     "schema_version": 2,
     "solution": false
    }
   },
   "source": [
    "# Question 3a\n",
    "\n",
    "Create a bar chart comparing the proportion of spam and ham emails containing certain words. It should look like the following plot (which was created using `sns.barplot`), but you should choose your own words as candidate features. Make sure to use the training set (after splitting).\n",
    "\n",
    "![training conditional proportions](./images/training_conditional_proportions.png \"Class Conditional Proportions\")\n",
    "\n",
    "Hint:\n",
    "- You can use DataFrame's `.melt` method to \"unpivot\" a DataFrame. See the following code cell for example"
   ]
  },
  {
   "cell_type": "code",
   "execution_count": 10,
   "metadata": {},
   "outputs": [
    {
     "data": {
      "text/markdown": [
       "> Our Original DataFrame has some words column and a type column. You can think of each row is a sentence, and the value of 1 or 0 indicates the number of occurances of the word in this sentence."
      ],
      "text/plain": [
       "<IPython.core.display.Markdown object>"
      ]
     },
     "metadata": {},
     "output_type": "display_data"
    },
    {
     "data": {
      "text/html": [
       "<div>\n",
       "<style scoped>\n",
       "    .dataframe tbody tr th:only-of-type {\n",
       "        vertical-align: middle;\n",
       "    }\n",
       "\n",
       "    .dataframe tbody tr th {\n",
       "        vertical-align: top;\n",
       "    }\n",
       "\n",
       "    .dataframe thead th {\n",
       "        text-align: right;\n",
       "    }\n",
       "</style>\n",
       "<table border=\"1\" class=\"dataframe\">\n",
       "  <thead>\n",
       "    <tr style=\"text-align: right;\">\n",
       "      <th></th>\n",
       "      <th>type</th>\n",
       "      <th>word_1</th>\n",
       "      <th>word_2</th>\n",
       "    </tr>\n",
       "  </thead>\n",
       "  <tbody>\n",
       "    <tr>\n",
       "      <th>0</th>\n",
       "      <td>spam</td>\n",
       "      <td>1</td>\n",
       "      <td>0</td>\n",
       "    </tr>\n",
       "    <tr>\n",
       "      <th>1</th>\n",
       "      <td>ham</td>\n",
       "      <td>0</td>\n",
       "      <td>1</td>\n",
       "    </tr>\n",
       "    <tr>\n",
       "      <th>2</th>\n",
       "      <td>ham</td>\n",
       "      <td>1</td>\n",
       "      <td>0</td>\n",
       "    </tr>\n",
       "    <tr>\n",
       "      <th>3</th>\n",
       "      <td>ham</td>\n",
       "      <td>0</td>\n",
       "      <td>1</td>\n",
       "    </tr>\n",
       "  </tbody>\n",
       "</table>\n",
       "</div>"
      ],
      "text/plain": [
       "   type  word_1  word_2\n",
       "0  spam       1       0\n",
       "1   ham       0       1\n",
       "2   ham       1       0\n",
       "3   ham       0       1"
      ]
     },
     "metadata": {},
     "output_type": "display_data"
    },
    {
     "data": {
      "text/markdown": [
       "> `melt` will turn columns into variale, notice how `word_1` and `word_2` become `variable`, their values are stoed in the value column"
      ],
      "text/plain": [
       "<IPython.core.display.Markdown object>"
      ]
     },
     "metadata": {},
     "output_type": "display_data"
    },
    {
     "data": {
      "text/html": [
       "<div>\n",
       "<style scoped>\n",
       "    .dataframe tbody tr th:only-of-type {\n",
       "        vertical-align: middle;\n",
       "    }\n",
       "\n",
       "    .dataframe tbody tr th {\n",
       "        vertical-align: top;\n",
       "    }\n",
       "\n",
       "    .dataframe thead th {\n",
       "        text-align: right;\n",
       "    }\n",
       "</style>\n",
       "<table border=\"1\" class=\"dataframe\">\n",
       "  <thead>\n",
       "    <tr style=\"text-align: right;\">\n",
       "      <th></th>\n",
       "      <th>type</th>\n",
       "      <th>variable</th>\n",
       "      <th>value</th>\n",
       "    </tr>\n",
       "  </thead>\n",
       "  <tbody>\n",
       "    <tr>\n",
       "      <th>0</th>\n",
       "      <td>spam</td>\n",
       "      <td>word_1</td>\n",
       "      <td>1</td>\n",
       "    </tr>\n",
       "    <tr>\n",
       "      <th>1</th>\n",
       "      <td>ham</td>\n",
       "      <td>word_1</td>\n",
       "      <td>0</td>\n",
       "    </tr>\n",
       "    <tr>\n",
       "      <th>2</th>\n",
       "      <td>ham</td>\n",
       "      <td>word_1</td>\n",
       "      <td>1</td>\n",
       "    </tr>\n",
       "    <tr>\n",
       "      <th>3</th>\n",
       "      <td>ham</td>\n",
       "      <td>word_1</td>\n",
       "      <td>0</td>\n",
       "    </tr>\n",
       "    <tr>\n",
       "      <th>4</th>\n",
       "      <td>spam</td>\n",
       "      <td>word_2</td>\n",
       "      <td>0</td>\n",
       "    </tr>\n",
       "    <tr>\n",
       "      <th>5</th>\n",
       "      <td>ham</td>\n",
       "      <td>word_2</td>\n",
       "      <td>1</td>\n",
       "    </tr>\n",
       "    <tr>\n",
       "      <th>6</th>\n",
       "      <td>ham</td>\n",
       "      <td>word_2</td>\n",
       "      <td>0</td>\n",
       "    </tr>\n",
       "    <tr>\n",
       "      <th>7</th>\n",
       "      <td>ham</td>\n",
       "      <td>word_2</td>\n",
       "      <td>1</td>\n",
       "    </tr>\n",
       "  </tbody>\n",
       "</table>\n",
       "</div>"
      ],
      "text/plain": [
       "   type variable  value\n",
       "0  spam   word_1      1\n",
       "1   ham   word_1      0\n",
       "2   ham   word_1      1\n",
       "3   ham   word_1      0\n",
       "4  spam   word_2      0\n",
       "5   ham   word_2      1\n",
       "6   ham   word_2      0\n",
       "7   ham   word_2      1"
      ]
     },
     "metadata": {},
     "output_type": "display_data"
    }
   ],
   "source": [
    "from IPython.display import display, Markdown\n",
    "df = pd.DataFrame({\n",
    "    'word_1': [1, 0, 1, 0],\n",
    "    'word_2': [0, 1, 0, 1],\n",
    "    'type': ['spam', 'ham', 'ham', 'ham']\n",
    "})\n",
    "display(Markdown(\"> Our Original DataFrame has some words column and a type column. You can think of each row is a sentence, and the value of 1 or 0 indicates the number of occurances of the word in this sentence.\"))\n",
    "display(df)\n",
    "display(Markdown(\"> `melt` will turn columns into variale, notice how `word_1` and `word_2` become `variable`, their values are stoed in the value column\"))\n",
    "display(df.melt(\"type\"))"
   ]
  },
  {
   "cell_type": "code",
   "execution_count": 11,
   "metadata": {
    "deletable": false,
    "nbgrader": {
     "cell_type": "code",
     "checksum": "338a7f62101a58f419096d555c68a7ba",
     "grade": true,
     "grade_id": "q3a-answer",
     "locked": false,
     "points": 2,
     "schema_version": 2,
     "solution": true
    }
   },
   "outputs": [
    {
     "data": {
      "image/png": "[encoded data removed]",
      "text/plain": [
       "<matplotlib.figure.Figure at 0x7fd785a1fc50>"
      ]
     },
     "metadata": {},
     "output_type": "display_data"
    }
   ],
   "source": [
    "# We must do this in order to preserve the ordering of emails to labels for words_in_texts\n",
    "train=train.reset_index()\n",
    "# train = train.sort_values(by=\"id\")\n",
    "list_of_words = ['3e', 'font', 'mailman', 'one', 'free', 'dear']\n",
    "\n",
    "word_features = words_in_texts(list_of_words, train['email'])\n",
    "\n",
    "word_features = pd.DataFrame(word_features, columns=list_of_words)\n",
    "spam_col = train['spam'].map({1: \"spam\", 0: \"ham\"})\n",
    "word_features.insert(0, \"spam\", spam_col)\n",
    "\n",
    "melted = word_features.melt([\"spam\"])\n",
    "final = melted.groupby(by=['variable','spam']).apply(sum)[['value']]\n",
    "\n",
    "\n",
    "for word in list_of_words:\n",
    "    final.loc[(word, 'ham'), 'percent'] = final.loc[(word, 'ham'), 'value']/(train['spam'].value_counts()[0])\n",
    "    final.loc[(word, 'spam'),'percent'] = final.loc[(word, 'spam'), 'value']/(train['spam'].value_counts()[1])\n",
    "final.reset_index(inplace=True)  \n",
    "\n",
    "from matplotlib import pyplot\n",
    "ax = pyplot.subplots(figsize=(10,8))\n",
    "ax = sns.barplot(x='variable', y='percent', data=final, hue='spam')\n",
    "plt.xlabel(\"Words\");\n",
    "plt.ylabel(\"Proportion of Words\");\n",
    "plt.title(\"Frequency of Words in Spam/Ham Emails\");"
   ]
  },
  {
   "cell_type": "markdown",
   "metadata": {
    "deletable": false,
    "editable": false,
    "nbgrader": {
     "cell_type": "markdown",
     "checksum": "29254003f0d45afdc9d9a055c6778842",
     "grade": false,
     "grade_id": "q3b",
     "locked": true,
     "schema_version": 2,
     "solution": false
    }
   },
   "source": [
    "# Question 3b\n",
    "\n",
    "When the feature is binary, it makes sense (as in the previous question) to compare the proportion of 1s in the two classes of email. Otherwise, if the feature can take on many values, it makes sense to compare the distribution under spam to the distribution under ham. Create a *class conditional density plot* like the one below (which was created using `sns.distplot`), comparing the distribution of a feature among all spam emails to the distribution of the same feature among all ham emails. You should use your training set (after splitting). **You may use the length of the email body or create your own feature.** If using length of the email body, please set the xlim to 50000.\n",
    "\n",
    "![training conditional densities](./images/training_conditional_densities2.png \"Class Conditional Densities\")"
   ]
  },
  {
   "cell_type": "code",
   "execution_count": 12,
   "metadata": {
    "deletable": false,
    "nbgrader": {
     "cell_type": "code",
     "checksum": "60246643e0caaa562f6a6ac6814ae0c0",
     "grade": true,
     "grade_id": "q3b-answer",
     "locked": false,
     "points": 2,
     "schema_version": 2,
     "solution": true
    }
   },
   "outputs": [
    {
     "data": {
      "image/png": "[encoded data removed]",
      "text/plain": [
       "<matplotlib.figure.Figure at 0x7fd785c96b38>"
      ]
     },
     "metadata": {},
     "output_type": "display_data"
    }
   ],
   "source": [
    "# YOUR CODE HERE\n",
    "plot = plt.subplot()\n",
    "plot.set_xlim([0, 50000])\n",
    "\n",
    "plot = sns.distplot(train[train['spam']==0]['email'].apply(len), color='b', label='Ham', hist=False)\n",
    "plot = sns.distplot(train[train['spam']==1]['email'].apply(len), color='r', label='Spam', hist=False)\n",
    "plt.xlabel(\"Length of email body\");\n",
    "plt.ylabel(\"Distribution\");"
   ]
  },
  {
   "cell_type": "markdown",
   "metadata": {
    "deletable": false,
    "editable": false,
    "nbgrader": {
     "cell_type": "markdown",
     "checksum": "0d13d7ef0cdd07a7ad8d0a49cdddba9b",
     "grade": false,
     "grade_id": "classification",
     "locked": true,
     "schema_version": 2,
     "solution": false
    }
   },
   "source": [
    "# Basic Classification\n",
    "\n",
    "Notice that the output of `words_in_texts(words, train['email'])` is a numeric matrix containing features for each email. This means we can use it directly to train a classifier!"
   ]
  },
  {
   "cell_type": "markdown",
   "metadata": {
    "deletable": false,
    "editable": false,
    "nbgrader": {
     "cell_type": "markdown",
     "checksum": "a704638a2aa116d175cec5d54011390e",
     "grade": false,
     "grade_id": "q4",
     "locked": true,
     "schema_version": 2,
     "solution": false
    }
   },
   "source": [
    "# Question 4\n",
    "\n",
    "We've given you 5 words that might be useful as features to distinguish spam/ham emails. Use these words as well as the `train` DataFrame to create two NumPy arrays: `Phi_train` and `Y_train`.\n",
    "\n",
    "`Phi_train` should be a matrix of 0s and 1s created by using your `words_in_texts` function on all the emails in the training set.\n",
    "\n",
    "`Y_train` should be a vector of the correct labels for each email in the training set."
   ]
  },
  {
   "cell_type": "code",
   "execution_count": 13,
   "metadata": {
    "deletable": false,
    "nbgrader": {
     "cell_type": "code",
     "checksum": "8b93048015e15c7af26cd4a47e611109",
     "grade": false,
     "grade_id": "q4-answer",
     "locked": false,
     "schema_version": 2,
     "solution": true
    },
    "tags": [
     "student"
    ]
   },
   "outputs": [
    {
     "data": {
      "text/plain": [
       "(array([[ 0.,  0.,  0.,  0.,  0.],\n",
       "        [ 0.,  0.,  0.,  0.,  0.],\n",
       "        [ 0.,  0.,  0.,  0.,  0.],\n",
       "        [ 0.,  0.,  0.,  0.,  0.],\n",
       "        [ 0.,  0.,  0.,  1.,  0.]]), 0    0\n",
       " 1    0\n",
       " 2    0\n",
       " 3    0\n",
       " 4    0\n",
       " Name: spam, dtype: int64)"
      ]
     },
     "execution_count": 13,
     "metadata": {},
     "output_type": "execute_result"
    }
   ],
   "source": [
    "some_words = ['drug', 'bank', 'prescription', 'memo', 'private']\n",
    "\n",
    "Phi_train = words_in_texts(some_words, train['email'])\n",
    "Y_train = train['spam']\n",
    "\n",
    "# YOUR CODE HERE\n",
    "# raise NotImplementedError()\n",
    "\n",
    "Phi_train[:5], Y_train[:5]"
   ]
  },
  {
   "cell_type": "code",
   "execution_count": 14,
   "metadata": {
    "deletable": false,
    "editable": false,
    "nbgrader": {
     "cell_type": "code",
     "checksum": "e379ae3ce1967f869f7d7e731ae0f75a",
     "grade": true,
     "grade_id": "q4-tests",
     "locked": true,
     "points": 2,
     "schema_version": 2,
     "solution": false
    }
   },
   "outputs": [],
   "source": [
    "assert np.all(np.unique(Phi_train) == np.array([0, 1]))\n",
    "assert np.all(np.unique(Y_train) == np.array([0, 1]))\n",
    "assert Phi_train.shape[0] == Y_train.shape[0]\n",
    "assert Phi_train.shape[1] == len(some_words)"
   ]
  },
  {
   "cell_type": "markdown",
   "metadata": {
    "deletable": false,
    "editable": false,
    "nbgrader": {
     "cell_type": "markdown",
     "checksum": "2d67277515ec86e13df560be7fb273f4",
     "grade": false,
     "grade_id": "q5",
     "locked": true,
     "schema_version": 2,
     "solution": false
    }
   },
   "source": [
    "# Question 5\n",
    "\n",
    "Now we have matrices we can give to scikit-learn! Using the [`LogisticRegression`](http://scikit-learn.org/stable/modules/generated/sklearn.linear_model.LogisticRegression.html) classifier, train a logistic regression model using `Phi_train` and `Y_train`. Then, output the accuracy of the model (on the training data) in the cell below. You should get an accuracy of around 0.75."
   ]
  },
  {
   "cell_type": "code",
   "execution_count": 15,
   "metadata": {
    "deletable": false,
    "nbgrader": {
     "cell_type": "code",
     "checksum": "39fde32be9194aa79e8778a329bb9e5a",
     "grade": false,
     "grade_id": "q5-answer",
     "locked": false,
     "schema_version": 2,
     "solution": true
    },
    "tags": [
     "student"
    ]
   },
   "outputs": [],
   "source": [
    "from sklearn import linear_model\n",
    "model = linear_model.LogisticRegression()\n",
    "model.fit(Phi_train, Y_train)\n",
    "training_accuracy = model.score(Phi_train, Y_train)"
   ]
  },
  {
   "cell_type": "code",
   "execution_count": 16,
   "metadata": {
    "deletable": false,
    "editable": false,
    "nbgrader": {
     "cell_type": "code",
     "checksum": "1133eaddd64442a3139615c57864c60e",
     "grade": true,
     "grade_id": "q5-tests",
     "locked": true,
     "points": 2,
     "schema_version": 2,
     "solution": false
    },
    "tags": [
     "solution"
    ]
   },
   "outputs": [],
   "source": [
    "assert training_accuracy > 0.72"
   ]
  },
  {
   "cell_type": "markdown",
   "metadata": {
    "deletable": false,
    "editable": false,
    "nbgrader": {
     "cell_type": "markdown",
     "checksum": "da6aec07c83e568598b2b8d9ae7ba763",
     "grade": false,
     "grade_id": "q6",
     "locked": true,
     "schema_version": 2,
     "solution": false
    }
   },
   "source": [
    "# Question 6\n",
    "\n",
    "That doesn't seem too shabby! But the classifier you made above isn't as good as this might lead us to believe. First, we are validating on the training set, which may lead to a misleading accuracy measure, especially if we used the training set to identify discriminative features. In future parts of this analysis, it will be safer to hold out some of our data for model validation and comparison.\n",
    "\n",
    "Presumably, our classifier will be used for **filtering**, i.e. preventing messages labeled `spam` from reaching someone's inbox. Since we are trying  There are two kinds of errors we can make:\n",
    "- False positive (FP): a ham email gets flagged as spam and filtered out of the inbox.\n",
    "- False negative (FN): a spam email gets mislabeled as ham and ends up in the inbox.\n",
    "\n",
    "These definitions depend both on the true labels and the predicted labels. False positives and false negatives may be of differing importance, leading us to consider more ways of evaluating a classifier, in addition to overall accuracy:\n",
    "\n",
    "**Precision** measures the proportion $\\frac{\\text{TP}}{\\text{TP} + \\text{FP}}$ of emails flagged as spam that are actually spam.\n",
    "\n",
    "**Recall** measures the proportion $\\frac{\\text{TP}}{\\text{TP} + \\text{FN}}$ of spam emails that were correctly flagged as spam. \n",
    "\n",
    "**False-alarm rate** measures the proportion $\\frac{\\text{FP}}{\\text{FP} + \\text{TN}}$ of ham emails that were incorrectly flagged as spam. \n",
    "\n",
    "The following image might help:\n",
    "\n",
    "<img src=\"https://upload.wikimedia.org/wikipedia/commons/thumb/2/26/Precisionrecall.svg/700px-Precisionrecall.svg.png\" width=\"500px\">\n",
    "\n",
    "Note that a true positive (TP) is a spam email that is classified as spam, and a true negative (TN) is a ham email that is classified as ham. Answer the following questions in the cells below:\n",
    "\n",
    "- (a) Suppose we have a classifier that just predicts 0 (ham) for every email. How many false positives are there? How many false negatives are there? Provide specific numbers using the training data from Question 4.\n",
    "- (b) Suppose we have a classifier that just predicts 0 (ham) for every email. What is its accuracy on the training set? What is its recall on the training set?\n",
    "- (c) What are the precision, recall, and false-alarm rate of the logistic regression classifier in Question 5? Are there more false positives or false negatives? \n",
    "- (d) Our logistic regression classifier got 75.6% prediction accuracy (number of correct predictions / total). How does this compare with predicting 0 for every email?\n",
    "- (e) Given the word features we gave you above, name one reason this classifier is performing poorly.\n",
    "- (f) Which of these two classifiers would you prefer for a spam filter and why? (N.B. there is no \"right answer\" here but be thoughtful in your reasoning)."
   ]
  },
  {
   "cell_type": "code",
   "execution_count": 17,
   "metadata": {
    "deletable": false,
    "nbgrader": {
     "cell_type": "code",
     "checksum": "fb6be2a577f65651b583021d052505f3",
     "grade": false,
     "grade_id": "q6a-answer",
     "locked": false,
     "schema_version": 2,
     "solution": true
    }
   },
   "outputs": [],
   "source": [
    "# provide number of FP and FN, respectively,\n",
    "# for a classifier that always predicts 0 (never predicts positive...)\n",
    "\n",
    "num_spam_email = len(train[train['spam'] == 1])\n",
    "num_email = len(train)\n",
    "\n",
    "zero_predictor_fp = 0\n",
    "zero_predictor_fn = num_spam_email\n",
    "\n",
    "\n",
    "\n",
    "# YOUR CODE HERE\n",
    "# raise NotImplementedError()"
   ]
  },
  {
   "cell_type": "code",
   "execution_count": 18,
   "metadata": {
    "deletable": false,
    "editable": false,
    "nbgrader": {
     "cell_type": "code",
     "checksum": "4170e6f271d97eab6ab77523d0c9689c",
     "grade": true,
     "grade_id": "q6a-tests",
     "locked": true,
     "points": 2,
     "schema_version": 2,
     "solution": false
    }
   },
   "outputs": [],
   "source": [
    "# This is a cell with just a comment but don't delete me if you want to get credit."
   ]
  },
  {
   "cell_type": "code",
   "execution_count": 19,
   "metadata": {
    "deletable": false,
    "nbgrader": {
     "cell_type": "code",
     "checksum": "551cfb296a0d066ef7f88a4450cd56f2",
     "grade": false,
     "grade_id": "q6b-answer",
     "locked": false,
     "schema_version": 2,
     "solution": true
    }
   },
   "outputs": [],
   "source": [
    "# provide training accuracy & recall, respectively,\n",
    "# for a classifier that always predicts 0\n",
    "\n",
    "\n",
    "zero_predictor_acc = 0.7447091707706642\n",
    "zero_predictor_recall = 0\n",
    "\n",
    "# YOUR CODE HERE\n",
    "# raise NotImplementedError()"
   ]
  },
  {
   "cell_type": "code",
   "execution_count": 20,
   "metadata": {
    "deletable": false,
    "editable": false,
    "nbgrader": {
     "cell_type": "code",
     "checksum": "2da0a2fd20e7773dc36190301cee53f5",
     "grade": true,
     "grade_id": "q6b-tests",
     "locked": true,
     "points": 2,
     "schema_version": 2,
     "solution": false
    }
   },
   "outputs": [],
   "source": [
    "# This is a cell with just a comment but don't delete me if you want to get credit."
   ]
  },
  {
   "cell_type": "code",
   "execution_count": 21,
   "metadata": {
    "deletable": false,
    "nbgrader": {
     "cell_type": "code",
     "checksum": "d3775f0397ec6a892683277ff9bb041d",
     "grade": false,
     "grade_id": "q6c-answer",
     "locked": false,
     "schema_version": 2,
     "solution": true
    }
   },
   "outputs": [
    {
     "name": "stdout",
     "output_type": "stream",
     "text": [
      "Precision:  0.642228739003\n",
      "Recall:  0.114181438999\n",
      "False Alarm Rate:  0.0218051831993\n"
     ]
    }
   ],
   "source": [
    "# provide training accuracy & recall, respectively,\n",
    "# for logistic regression classifier from question 5\n",
    "from sklearn.metrics import recall_score\n",
    "from sklearn.metrics import precision_score\n",
    "from sklearn.metrics import confusion_matrix\n",
    "\n",
    "\n",
    "tn = confusion_matrix(Y_train, model.predict(Phi_train))[0][0]\n",
    "fp = confusion_matrix(Y_train, model.predict(Phi_train))[0][1] \n",
    "fn = confusion_matrix(Y_train, model.predict(Phi_train))[1][0]\n",
    "tp = confusion_matrix(Y_train, model.predict(Phi_train))[1][1] \n",
    "\n",
    "logistic_predictor_precision = tp/(tp + fp)\n",
    "logistic_predictor_recall = tp/(tp + fn)\n",
    "logistic_predictor_far = fp/(fp+tn)\n",
    "print(\"Precision: \", logistic_predictor_precision)\n",
    "print(\"Recall: \", logistic_predictor_recall)\n",
    "print(\"False Alarm Rate: \", logistic_predictor_far)\n",
    "\n",
    "# YOUR CODE HERE\n",
    "# raise NotImplementedError()"
   ]
  },
  {
   "cell_type": "code",
   "execution_count": 22,
   "metadata": {
    "deletable": false,
    "editable": false,
    "nbgrader": {
     "cell_type": "code",
     "checksum": "1d5da8b3485c912e0e04d5a4cb125678",
     "grade": true,
     "grade_id": "q6c-tests",
     "locked": true,
     "points": 2,
     "schema_version": 2,
     "solution": false
    }
   },
   "outputs": [],
   "source": [
    "# This is a cell with just a comment but don't delete me if you want to get credit."
   ]
  },
  {
   "cell_type": "markdown",
   "metadata": {
    "deletable": false,
    "nbgrader": {
     "cell_type": "markdown",
     "checksum": "b0c889c63a8057b74c02d98a0b25e392",
     "grade": true,
     "grade_id": "q6-written",
     "locked": false,
     "points": 3,
     "schema_version": 2,
     "solution": true
    },
    "tags": [
     "solution",
     "written",
     "q06"
    ]
   },
   "source": [
    "c.There are more false negatives.\n",
    "d. This is only slightly better than predicting 0 for every email.\n",
    "e. One possible reason is that there are a lot of the words that appear in both spam and ham emails. This makes it hard for the classifier to differentaite spam from ham.\n",
    "f. I prefer the classifier that predicts ham for every email. It only performs about 1% worse than our other classifier and I would rather have my spam filter miss spam emails than put my ham emails into the spam bin. This could be dangerous if I got an important email that the classifier put in spam, but if I got a spam that my classifier put in ham I could just delete it.\n"
   ]
  },
  {
   "cell_type": "markdown",
   "metadata": {
    "deletable": false,
    "editable": false,
    "nbgrader": {
     "cell_type": "markdown",
     "checksum": "0788f2f8d62c749b610c36b881858705",
     "grade": false,
     "grade_id": "p2",
     "locked": true,
     "schema_version": 2,
     "solution": false
    }
   },
   "source": [
    "# Part II - Moving Forward\n",
    "\n",
    "With this in mind, it is now your task to make the spam filter more accurate. In order to get full credit on the accuracy part of this assignment, you must get at least **88%** accuracy on the test set. To see your accuracy on the test set, you will use your classifier to predict every email in the `test` DataFrame and upload your predictions to Kaggle.\n",
    "\n",
    "To prevent you from overfitting to the test set, you may only upload predictions to Kaggle twice per day. This means you should start early and rely on your **validation data** to estimate your Kaggle scores.  \n",
    "\n",
    "Here are some ideas for improving your model:\n",
    "\n",
    "1. Finding better features based on the email text. Some example features are:\n",
    "    1. Number of characters in the subject / body\n",
    "    1. Number of words in the subject / body\n",
    "    1. Use of punctuation (e.g., how many '!' were there?)\n",
    "    1. Number / percentage of capital letters \n",
    "    1. Whether the email is a reply to an earlier email or a forwarded email\n",
    "1. Finding better words to use as features. Which words are the best at distinguishing emails? This requires digging into the email text itself. \n",
    "1. Better data processing. For example, many emails contain HTML as well as text. You can consider extracting out the text from the HTML to help you find better words. Or, you can match HTML tags themselves, or even some combination of the two.\n",
    "1. Model selection. You can adjust parameters of your model (e.g. the regularization parameter) to achieve higher accuracy. Recall that you should use cross-validation to do feature and model selection properly! Otherwise, you will likely overfit to your training data.\n",
    "\n",
    "You may use whatever method you prefer in order to create features. However, **you are only allowed to train logistic regression models and their regularized forms**. This means no random forest, k-nearest-neighbors, neural nets, etc.\n",
    "\n",
    "We will not give you a code skeleton to do this, so feel free to create as many cells as you need in order to tackle this task. However, answering questions 7, 8, and 9 should help guide you.\n",
    "\n",
    "---\n",
    "\n",
    "**Note:** *You should use the **validation data** to evaluate your model and get a better sense of how it will perform on the Kaggle evaluation.*\n",
    "\n",
    "---"
   ]
  },
  {
   "cell_type": "code",
   "execution_count": 23,
   "metadata": {},
   "outputs": [],
   "source": [
    "word_lst = ['3d', 'font', 'color', 'size', 'align', 'face', 'center', '20\\n',\n",
    "       '22', 'nbsp', '3e', 'your', 'div', 'span', 'verdana', 'blockquote',\n",
    "       '3c', 'option', 'arial', '000', 'body', 'br', 'you', 'name',\n",
    "       'serif', 'strong', 'ff0000', 'money', 'style', 'sans', 'margin',\n",
    "       'receive', 'us', 'p', 'please', '2e', 'iiq', 'a3', 'li', 'our',\n",
    "       '30', 'bordercolor', 'b5', '50', '3cfont', '2ffont', 'business',\n",
    "       'remove', '0pt', 'mso', 'free', 'u', '3dcenter', '3d2', 'order',\n",
    "       '3e\\n', 'meta', 'value', 'removed', 'e', 'report', 'de', 'head',\n",
    "       '000066', 'email', 'a1', 'bb', 'marketing', '3b', 'ffffff', '81',\n",
    "       'credit', '0000ff', 'below', 'grants', 'insurance', 'font\\n',\n",
    "       'black', '550', 'ba', '61', '000080', 'bc', '3d4', 'family',\n",
    "       'content', 'ptsize', 'equiv', 'input', 'd0', 'offer', 'em', 'jpg',\n",
    "       'tahoma', 'b9', 'wish', 'lang', '3d3', 'orders', '3darial', 'bd',\n",
    "       'address', 'c4', 'cash', 'd2', 'o', 'life', 'bf', 'fill',\n",
    "       'mailings', 'tbody', 'dollars', 'legal', 'addresses', 'fax', 'send',\n",
    "       'd1', 'a2', 'reply', 'insuranceiq', 'd6', 'mortgage', 'quot',\n",
    "       'roman', '\\tfont', 'guaranteed', 'response', '8859', 'a7', 'd3',\n",
    "       '65', 'b8', 'ce', '31', 'sansserif', 'ffff00', 'mails', '0cm',\n",
    "       '0px', 'c3', 'padding', 'en', 'contact', 'charset', 'sightings',\n",
    "       'b7', 'collapse', 'income', 'within', 'transfer', '77', '500',\n",
    "       'milf', '63', 'fa', 'left', 'jm', 'program', 'a9', 'bidi', 'ac',\n",
    "       'b4', 'transaction', 'opt', 'call', 'a4', 'offers', 'guide', 'c8',\n",
    "       'e1', 'state', 'c6', 'enenkio', '66', 'million', 'b2', 'removal',\n",
    "       '3dright', 'city', 'financial', '95', 'c9', 'ffff99', '211', 'b6',\n",
    "       'c7', 'img\\n', '74', 'rates', 'type', 'a8', 'y', 'jeweldive',\n",
    "       'purchase', 'bonus', '3cp', 'form', '1252', '0in', 'c0',\n",
    "       '\\tcharset', 'justify', 'encoding', 'netnoteinc', 'c1', 'website',\n",
    "       'aaaaaaaaaaaaaaaaaaaaaaaaaaaaaaaaaaaaaaaaaaaaaaaaaaaaaaaaaaaaaaaaaaaaaaaaaaaa\\n',\n",
    "       'opportunity', 'c5', 'b3', 'emails', 'investment', 'cb', '800',\n",
    "       'ab', 'f3', 'risk', 'ext', 'cf', 'interest', 'msonormal', 'bulk',\n",
    "       '22arial', 'temple', 'f6', 'fromyou2', 'b1', '3cb', '2fb', 'grant',\n",
    "       'save', 'communication', 'hr', 'span\\n', 'botanical', 'per',\n",
    "       'islands', 'special', 'membership', 'htm', 'guarantee', 'kingdom',\n",
    "       'low', 'optout', 'lose', 'da', '70', 'professionals', 'index',\n",
    "       'professional', '22verdana', 'step', '\\tmso', 'complete',\n",
    "       'insurancemail', '6e', 'bindex', 'nsi', 'absolutely', 'total',\n",
    "       'letter', 'h3', 'b0', 'loan', '222', '008000', 'earn', 'month',\n",
    "       'ad_key', '22center', '006600', '2fp', 'btamail', 'travel', 'iso',\n",
    "       'oz', 'times', 'f7', 'ragga', '2c', 'programs', 'improvement', 'af',\n",
    "       'dear', 'thank', 'your\\n', 'sightings\\n', 'nasty', 'dagga', 'zzzz',\n",
    "       'd7', 'click\\n', '\\tmargin', 'age', '111111', 'debt', 'broadcast',\n",
    "       'trading', 'generator', 'shipping', 'd5', 'yours', 'e9', 'tablets',\n",
    "       'aeopublishing', 'cn', '3cbr', 'instructions', 'n\\n',\n",
    "       'deathtospamdeathtospamdeathtospam', '129', '300', 'rate', '3d6',\n",
    "       'hours', '72', 'valuable', 'cd', '3ctd', '2ftd', 'atoll',\n",
    "       'theadmanager', '\\ttext', 'aging', 'toner', 'usd', 'natural', 'tm',\n",
    "       'courier', '2ecom', 'smoking', 'e8', 'herba', 'option\\n', 'notice',\n",
    "       'ea', 'ordering', 'printable\\n', 'sales', '88', '3dmiddle', 'des',\n",
    "       'trafficmagnet', 'seventh', 'fb', 'sending', '73', 'e3', 'secrets',\n",
    "       'f4', 'ae', 'a6', 'pay', 'warranty', '133', 'obligation', '3diso',\n",
    "       'a5', 'capillaris', 'payment', 'creditfix', '0000cc', 'plus', 'f2',\n",
    "       '231', 'cbyi', 'hundreds', 'follow', '25pt', 'e4', 'adult', '250',\n",
    "       'dd', 'la', 'eb', 'pour', 'nigeria', 'thousands', 'annuity',\n",
    "       'yourself', 'advertising', '87', '220', '3cli', '\\t\\t\\t\\t\\t\\t\\n',\n",
    "       'estate', '151', 'admanmail', 'hermios', 'les', 'c4c4a6',\n",
    "       'receiving', 'cartridge', 'bordercolorlight', 'account', '223',\n",
    "       'loans', 'lenders', 'swiss', '225', 'c2', 'refinance', 'excite',\n",
    "       '3dhttp', '334', '3dwindows', 'premium', 'base64\\n', '209',\n",
    "       'listing', '141', '6d', '203', 'bills', 'loss', 'white', 'dc',\n",
    "       'penis', '221', 'lime', 'business\\n', 'foreign', 'f8', 'roving',\n",
    "       '365', '3a', 'le', 'assist', 'fareast', '3d12', '71', 'toll', 'mlm',\n",
    "       'coachinvest', 'retail', 'interested', 'e7', 'marshall', 'bank',\n",
    "       '6f', 'monthly', '22100', 'frugaljoe', 'kio', 'vous', 'msobodytext',\n",
    "       '3dleft', 'success', 'progid', 'sincerely', '217', 'et', 'f5',\n",
    "       'yellow', '\\r', 'adclick', 'bordercolordark', '304704', 'e2', '5in',\n",
    "       'government', 'medical', 'qualified', '1000', 'commission',\n",
    "       'hdnrecipienttxt', 'hdnsubjecttxt', 'profitable', '22http',\n",
    "       'lifetime', 'bottom', '68', 'a0', 'vbi', 'sites', 'multi', 'fund',\n",
    "       'tba', 'unlimited', 'd8', 'ec', 'kathmandu', '64', 'v', 'targeted',\n",
    "       'contactname', 'sentto', '3d5', '3cstrong', '2fstrong', '8226',\n",
    "       'sunsans', 'sum', 'independent', 'kr', 'commissions', 'e5',\n",
    "       'bonuses', 'lowest', 'btnsubmit', 'pgi', 'endif', 'h2', '228',\n",
    "       'profiled', 'mo', 'eneen', 'gt', 'assistance', 'direct', '8217',\n",
    "       'postal', 'amber', '1cm', '3ctr', 'eid', 'divl', 'weeks',\n",
    "       'customer', 'e0', '2ftr', '224', 'sur', 'engines', 'navy', 'simple',\n",
    "       'webdings', 'inquiry', '540', 'rootssearch', 'confidential',\n",
    "       'unsubscribed', '5pt', '800000', 'ff00ff', '3cdiv', '2fdiv',\n",
    "       'godsmell', 'regular', 'intro', 'ch', 'a0\\n', 'f1', 'increase',\n",
    "       'unsolicited', '888', 'information\\t', 'para', 'tt', 'f0',\n",
    "       'aphrodisia', 'ferocity', 'mstheme', 'free\\n', 'money\\n', '89',\n",
    "       'affiliates',\n",
    "       '______________________________________________________\\n', 'jody',\n",
    "       'gentle', 'sweet', 'received', 'auto', 'doctype', 'invest',\n",
    "       'herbal', 'domain', 'main2', 'webstakes', 'lsa', 'hanmail', 'you\\n',\n",
    "       'millions', 'cost', 'instructed', 'fees', 'issued', 'personal9',\n",
    "       '20020730', 'quoted', 'promotion', 'compare', 'es', 'sir', '200',\n",
    "       'approved', '23660000', 'vjestika', 'request', 'impact', 'fon',\n",
    "       '1618', 'bottle', 'laserjet', '99cc99', '538', 'prosaka', 'simply',\n",
    "       'funds', 'charge', 'compliance', '163', 'phone', 'kabila',\n",
    "       'document', '210', 'e6', 'ou', 'terra', '75pt', 'insider',\n",
    "       'linkgift', 'herb', 'includes', 'dieting', '3d\\n', 'maxlength',\n",
    "       'searcher', 'pipe', 'laxpress', 'opted', 'th', '\\tcolor',\n",
    "       'participate', 'ge', 'promotions', 'qualify', 'telephone',\n",
    "       'prescription', 'china', 'viagra', 'dtd', 'transitional', '69',\n",
    "       'premiums', 'auction', 'sexual', 'ez', 'bluecom', 'government\\n',\n",
    "       'exercise', '423', 'ffff', 'mt', 'dvd', '50sites', 'discover',\n",
    "       'abuse', 'securities', 'mshtml', 'currency', 'spacing', 'insiq',\n",
    "       'sunshinehui', '1596', '1167', 'columbiahouse', 'marshallese',\n",
    "       'xyak', 'jigget', '2f2f4f', 'tracy', 'audible', 'proven', 'pa',\n",
    "       'nbc', 'statements', 'clicking', 'ee', 'norton', 'attained', '84',\n",
    "       '2e000', '126', '251', 'dragon', 'paid', 'immediately', 'georgia',\n",
    "       'ont', 'w3c', 'apologize', 'lt', 'dus', '990', 'shangrila', '2e\\n',\n",
    "       'republic', 'ordered', 'igtt', 'mono', '000099', 'rx', 'abacha',\n",
    "       '006699', 'equivalence', 'contracts', '123alias', 'ocms', 'apply',\n",
    "       'fl', '139', 'testimonials', '3eeasy', 'insurance\\n', 'tl', '3d500',\n",
    "       'stylus', 'wake', 'businesses', 'est', 'obtained', 'fabulousmail',\n",
    "       '0801', 'banners', 'drops', '808000', 'eluxmedia', 'accepted',\n",
    "       'track', 'father', 'fe', '206', 'tab', 'ck', '227', 'f9', '162',\n",
    "       'aqueous', 'ipogea', 'inset', '0000', 'cid', '3dverdana', '143',\n",
    "       '\\tstate', '3dcontent', '78', 'financially', 'ministry', 'clrea',\n",
    "       'adfarm', 'mediaplex', '1736', '5138', 'maxaman', 'jlnax',\n",
    "       'expenses', 'equity', 'muscle', '247', '336', 'mastercard',\n",
    "       'sensitive', '2fa', '40btamail', 'exhibition', 'sleep', '230033ff',\n",
    "       '23000000', 'a248', 'b7s', 'ccprod', 'further', 'contains',\n",
    "       'packed', 'savings', 'aa', '3ca', 'category', 'seekercenter',\n",
    "       'mando', 'majesty', 'eacute', 'zowie', 'websites', 'h1', 'optout\\n',\n",
    "       'sponsorship', '2ezip', 'tobacco', '3dtext', '3dsubmit', 'cc0066',\n",
    "       'bannersgomlm', 'deposit', '301', '3djustify', '00ff00', 'ff',\n",
    "       'millionaire', 'epson', 'smoker', 'nobr', 'plantas', 'johnson2276',\n",
    "       '17pt', 'members', '243', 'recommendation', 'checks', 'kindly',\n",
    "       'male', '0066cc', 'par', '213', 'regarding', '140', 'ul', 'fat',\n",
    "       'lor', 'names', 'ltc', 'xnet', 'king', '22mailto', '3444431',\n",
    "       '000033', 'comprosys', '9to6', 'beneficiary', 'du', 'fo', 'demo',\n",
    "       '67', 'afft', 'systemworks', 'mailed', 'cc3300', 'trader',\n",
    "       'bottles', 'lotsonet', 'substance', 'gh', 'urgent', '555',\n",
    "       'guidelines', 'son', 'associate', 'deposited', 'email\\n', 'roster',\n",
    "       'requesting', 'poker', 'sgo', '240', '00ffff', 'anytime', 'ri',\n",
    "       '003399', '666600', 'pk007\\n', 'd6cfab', 'svcd', 'savoir', 'wowie',\n",
    "       'immediate', 'huge', 'christian', 'ct', '202', 'congo', 'il',\n",
    "       'fortune', '535', 'homeowner', 'correspondence', 'freak', '113',\n",
    "       'receive\\n', 'mini', '3d100', 'kin', 'murjel', '3d7', 'votre',\n",
    "       'lagos', 'anywhere', 'dqog\\n', 'forever', '3d400', 'wa', '0077cc',\n",
    "       'affiliate', 'unwanted', 'resell', 'hgh', 'annuities', 'responsive',\n",
    "       'jepson', 'iroijlaplap', 'sle', 'eqn', 'payments', 'gift',\n",
    "       'increased', 'domains', 'carefully', 'op', 'spray', 'responded',\n",
    "       'placing', '333399', '501', 'viripotent', 'confidentiality',\n",
    "       'incredible', 'calling', 'shall', 'factors', 'enctype',\n",
    "       'inconvenience', 'pagination', 'newnamedns', '0000a0', 'rial',\n",
    "       '25in', 'fmimages', 'salealerts', 'wiildaccess', 'wing', 'atolls',\n",
    "       'ratak', 'cna', 'mladih', '8255', 'bd7n7877', 'friendfinder',\n",
    "       'advertisers', 'vip', 'successful', 'order\\n', 'consultation', '9j',\n",
    "       'laurent', '096400', 'exciting', 'nationwide', '170', '0022',\n",
    "       'please\\n', 'advised', 'widow', '3dmsonormal', 'f99', 'strongly',\n",
    "       'ccffff', 'smokers', 'checkbox', 'dqogicag\\n', 'consumertoday',\n",
    "       '21600', 'myinput', 'prizeinthebag', 'offering', 'se', '8e', 'nter',\n",
    "       '208', '3dblack', '157', 'classified', '3d450', '001', 'www3',\n",
    "       'pmg', 'dt', 'vcd', 'emailrewardz', 'allmerica', 'oacute',\n",
    "       'putpeel', 'e89', 'limited', 'tn', 'affordable', '866', 'xmlns',\n",
    "       'orphan', 'participation', 'nlv', '226', '715', 'aig', '237', 'rmi',\n",
    "       'utilized', 'stoney', 'vresp',\n",
    "       '1010110111011110101010101110101010101010101011010101010101010101101011010101010101010101010110101010101010101100010110111010101010100011010101101010101101',\n",
    "       'zaam', 'am2002', 'goopt', '8101', 'dqogicagica8yni', 'topsitez',\n",
    "       '174', 'facts', 'scholarships', 'obtaining']"
   ]
  },
  {
   "cell_type": "code",
   "execution_count": 24,
   "metadata": {},
   "outputs": [],
   "source": [
    "import operator\n",
    "from collections import Counter\n",
    "from sklearn.feature_extraction.text import CountVectorizer\n",
    "import sklearn\n",
    "\n",
    "def isReply(series):\n",
    "    series = series.fillna(\"None\")\n",
    "    return np.array(series.str.contains('Re:').map(int))\n",
    "\n",
    "def get_words(data):\n",
    "#     punct_re = r'[^\\w\\s]'\n",
    "#     spam_words = data[data['spam']==1]['email'].str.replace(punct_re,' ').str.cat(sep=\" \").split(\" \")\n",
    "#     ham_words = data[data['spam']==0]['email'].str.replace(punct_re,' ').str.cat(sep=\" \").split(\" \")\n",
    "\n",
    "    \n",
    "#     c1 = Counter(spam_words)\n",
    "#     c2 = Counter(ham_words)\n",
    "\n",
    "#     diff = c1-c2\n",
    "#     word_lst = sorted(diff, key=diff.get, reverse=True)[:1000]\n",
    "#     spam_words = 0\n",
    "#     ham_words = 0\n",
    "#     return 0\n",
    "    return word_lst\n",
    "    \n",
    "def featurize(data, word_lst1):\n",
    "    cv = sklearn.feature_extraction.text.CountVectorizer(vocabulary=word_lst1)\n",
    "    Phi_train = cv.fit_transform(list(data['email'])).toarray()\n",
    "    reply_array = isReply(data['subject'])\n",
    "    df = pd.DataFrame(Phi_train, columns=word_lst)\n",
    "    df['reply'] = reply_array\n",
    "    return df.values\n",
    "\n",
    "def train_func(features, results):\n",
    "    model = linear_model.LogisticRegression()\n",
    "    model.fit(features, results)\n",
    "    return model\n",
    "    \n",
    "def prediction_score(model1, feats, res):\n",
    "    training_accuracy = model1.score(feats, res)\n",
    "    return training_accuracy "
   ]
  },
  {
   "cell_type": "code",
   "execution_count": 25,
   "metadata": {},
   "outputs": [],
   "source": [
    "from sklearn.model_selection import KFold\n",
    "from sklearn.model_selection import train_test_split\n",
    "[train, val] = train_test_split(original_training_data, test_size=0.1, random_state=42)\n",
    "\n",
    "# word_lst = get_words(train)\n",
    "# kf = KFold(n_splits=4)\n",
    "# for train_idx, valid_idx in kf.split(train):\n",
    "#     split_X_train, split_X_valid = train.iloc[train_idx], train.iloc[valid_idx]\n",
    "#     split_Y_train, split_Y_valid = train[['spam']].iloc[train_idx], train[['spam']].iloc[valid_idx]\n",
    "    \n",
    "#     feat = featurize(split_X_train, word_lst)\n",
    "#     model = train_func(feat, split_Y_train['spam'])\n",
    "#     print(prediction_score(model, featurize(split_X_valid, word_lst), split_Y_valid['spam']))"
   ]
  },
  {
   "cell_type": "code",
   "execution_count": 26,
   "metadata": {},
   "outputs": [],
   "source": [
    "# word_lst = get_words(train)\n",
    "# feat = featurize(train, word_lst)\n",
    "# model = train_func(feat, train['spam'])\n",
    "# prediction_score(model, featurize(val, word_lst), val['spam'])"
   ]
  },
  {
   "cell_type": "code",
   "execution_count": null,
   "metadata": {},
   "outputs": [],
   "source": []
  },
  {
   "cell_type": "markdown",
   "metadata": {
    "deletable": false,
    "editable": false,
    "nbgrader": {
     "cell_type": "markdown",
     "checksum": "55580b1682a53b3d3bab8e3d6b928973",
     "grade": false,
     "grade_id": "q7",
     "locked": true,
     "schema_version": 2,
     "solution": false
    }
   },
   "source": [
    "# Question 7 (Feature/Model Selection Process)\n",
    "\n",
    "In this following cell, describe the process of improving your model. You should use at least 2-3 sentences each to address the follow questions:\n",
    "\n",
    "1. How did you find better features for your model?\n",
    "2. What did you try that worked / didn't work?\n",
    "3. What was surprising in your search for good features?"
   ]
  },
  {
   "cell_type": "markdown",
   "metadata": {
    "deletable": false,
    "nbgrader": {
     "cell_type": "markdown",
     "checksum": "939e6a5a273ced9801a7c510aac0cde4",
     "grade": true,
     "grade_id": "q7-written",
     "locked": false,
     "points": 6,
     "schema_version": 2,
     "solution": true
    },
    "tags": [
     "student",
     "written",
     "q_feature"
    ]
   },
   "source": [
    "1. I used far more words than the previous model. I thought about how I could find an association with either spam or ham for a select number of words. I did this by assigning each word a score, starting off with how many times it appeared in spam emails and then subtracting how many times it appeared in ham emails. I also used whether the email was a reply email or not.\n",
    "2. I tried to get a proportion of the words using how many times a word appeared in spam email text vs how many times it appeared in ham email text. However, since there were far more ham emails there was also more ham text and so it biased the words to be ham words. My highest weighted features from this method were filler words like \"the\", \"I\", \"at\" because the greater amount of ham words skewed the word distribution. \n",
    "3. I first thought I would just use as many words as possible as features however our word_in_text function was not sufficient to map these features so I had to find a method from sklearn called CountVectorizer which worked great. I also was surprised that its not neccessarily the more words the more accurate because having too many words means too many features and will lead to overfitting."
   ]
  },
  {
   "cell_type": "markdown",
   "metadata": {
    "deletable": false,
    "editable": false,
    "nbgrader": {
     "cell_type": "markdown",
     "checksum": "60b1230b3da1ce9160009cccef25dd8d",
     "grade": false,
     "grade_id": "q8",
     "locked": true,
     "schema_version": 2,
     "solution": false
    }
   },
   "source": [
    "# Question 8 (EDA)\n",
    "\n",
    "In the two cells below, show a visualization that you used to select features for your model. Include both\n",
    "\n",
    "1. A plot showing something meaningful about the data that helped you during feature / model selection.\n",
    "2. 2-3 sentences describing what you plotted and what its implications are for your features.\n",
    "\n",
    "Feel to create as many plots as you want in your process of feature selection, but select one for the cells below.\n",
    "\n",
    "**You should not show us a visualization just like in question 3.** Specifically, don't show us a bar chart of proportions, or a one-dimensional class conditional density plot. Any other plot is acceptable, as long as it comes with thoughtful commentary. Here are some ideas:\n",
    "\n",
    "1. Consider the correlation between multiple features (look up correlation plots and `sns.heatmap`). \n",
    "1. Try to show redundancy in a group of features (e.g. `body` and `html` might co-occur relatively frequently, or you might be able to design a feature that captures all html tags and compare it to these). \n",
    "1. Use a word-cloud or another visualization tool to characterize the most common spam words.\n",
    "1. Visually depict whether spam emails tend to be wordier (in some sense) than ham emails."
   ]
  },
  {
   "cell_type": "markdown",
   "metadata": {},
   "source": [
    "# Word Cloud Code Below (DataHub doesn't have library I used on my local machine)"
   ]
  },
  {
   "cell_type": "code",
   "execution_count": 27,
   "metadata": {
    "deletable": false,
    "nbgrader": {
     "cell_type": "code",
     "checksum": "94f71f52acc1ddc1af721de03dddc841",
     "grade": true,
     "grade_id": "q8-eda",
     "locked": false,
     "points": 3,
     "schema_version": 2,
     "solution": true
    },
    "tags": [
     "student",
     "written",
     "q_eda1"
    ]
   },
   "outputs": [],
   "source": [
    "# import numpy as np\n",
    "# from PIL import Image\n",
    "# from os import path\n",
    "# import matplotlib.pyplot as plt\n",
    "# import random\n",
    "# from wordcloud import WordCloud, STOPWORDS\n",
    "# def white_color_func(word, font_size, position, orientation, random_state=None,**kwargs):\n",
    "#     return \"hsl(0, 0%%, %d%%)\" % random.randint(60, 100)\n",
    "# new_df = train[~train['email'].str.contains(\"<html\")]\n",
    "# spam_text = new_df[new_df['spam']== 1]['email'].str.cat(sep=' ')\n",
    "# stopwords = set(STOPWORDS)\n",
    "# stopwords.add(\"fuck\")\n",
    "# spam_cloud = WordCloud(max_words=500, stopwords=stopwords,margin=10,random_state=1).generate(spam_text)\n",
    "# default_colors = spam_cloud.to_array()\n",
    "# plt.title(\"Spam Word Cloud\")\n",
    "# plt.imshow(spam_cloud.recolor(color_func=white_color_func, random_state=3),\n",
    "#  interpolation=\"bilinear\")\n",
    "# plt.axis(\"off\")"
   ]
  },
  {
   "cell_type": "code",
   "execution_count": 28,
   "metadata": {},
   "outputs": [],
   "source": [
    "# import matplotlib.pyplot as plt1\n",
    "# new_df = train[~train['email'].str.contains(\"<html\")]\n",
    "# ham_text = new_df[new_df['spam']== 0]['email'].str.cat(sep=' ')\n",
    "# stopwords = set(STOPWORDS)\n",
    "# stopwords.add(\"fuck\")\n",
    "# ham_cloud = WordCloud(max_words=500, stopwords=stopwords,margin=10,random_state=1).generate(ham_text)\n",
    "# default_colors = spam_cloud.to_array()\n",
    "# plt1.title(\"Ham Word Cloud\")\n",
    "# plt1.imshow(ham_cloud.recolor(color_func=white_color_func, random_state=3),\n",
    "#  interpolation=\"bilinear\")\n",
    "# plt1.axis(\"off\")"
   ]
  },
  {
   "cell_type": "code",
   "execution_count": 29,
   "metadata": {},
   "outputs": [
    {
     "data": {
      "image/png": "[encoded data removed]",
      "text/plain": [
       "<IPython.core.display.Image object>"
      ]
     },
     "execution_count": 29,
     "metadata": {},
     "output_type": "execute_result"
    }
   ],
   "source": [
    "from IPython.display import Image\n",
    "Image(filename='data/HamWordCloud.png') "
   ]
  },
  {
   "cell_type": "code",
   "execution_count": 30,
   "metadata": {},
   "outputs": [
    {
     "data": {
      "image/png": "[encoded data removed]",
      "text/plain": [
       "<IPython.core.display.Image object>"
      ]
     },
     "execution_count": 30,
     "metadata": {},
     "output_type": "execute_result"
    }
   ],
   "source": [
    "Image(filename='data/SpamWordCloud.png') "
   ]
  },
  {
   "cell_type": "markdown",
   "metadata": {
    "deletable": false,
    "nbgrader": {
     "cell_type": "markdown",
     "checksum": "6d76d0efe11b5d997378ac902d04f7c1",
     "grade": true,
     "grade_id": "q8-commentary",
     "locked": false,
     "points": 3,
     "schema_version": 2,
     "solution": true
    }
   },
   "source": [
    "*I WORKED ON THE WORD CLOUDS LOCALLY AND INSTALLED A LIBRARY THAT I DONT HAVE ON DATAHUB SO THIS CODE WOULDNT RUN ON MY DATAHUB.\n",
    "I ATTACHED THE IMAGES TO THE DATA SECTION OF THE FOLDER.\n",
    "1. I plotted the word cloud for both the spam emails and the ham emails. This shows the most common words that appear in ham emails and in spam emails.\n",
    "2. This was significant for my features because at first I just put all the emails into the word clouds and I saw an overlap of words used in making html documents. This shows that an email being html may skew my predictions. To fix this I filtered out all html emails and re plotted the word clouds. After filtering I see much more logical words that could be used to seperate spam emails from ham emails."
   ]
  },
  {
   "cell_type": "markdown",
   "metadata": {
    "deletable": false,
    "editable": false,
    "nbgrader": {
     "cell_type": "markdown",
     "checksum": "99200fdbaff3f814a5c7685c862989d9",
     "grade": false,
     "grade_id": "q9",
     "locked": true,
     "schema_version": 2,
     "solution": false
    }
   },
   "source": [
    "# Question 9 (Making a Precision-Recall Curve)\n",
    "\n",
    "We can trade off between precision and recall. In most cases we won't be able to get both perfect precision (i.e. no false positives) and recall (i.e. no false negatives), so we have to compromise. For example, in the case of cancer screenings, false negatives are comparatively worse than false positives — a false negative means that a patient might not discover a disease until it's too late to treat, while a false positive means that a patient will probably have to take another screening.\n",
    "\n",
    "Recall that logistic regression calculates the probability that an example belongs to a certain class. Then, to classify an example we say that an email is spam if our classifier gives it $\\ge 0.5$ probability of being spam. However, *we can adjust that cutoff*: we can say that an email is spam only if our classifier gives it $\\ge 0.7$ probability of being spam, for example. This is how we can trade off false positives and false negatives.\n",
    "\n",
    "The precision-recall curve shows this trade off for each possible cutoff probability. In the cell below, [plot a precision-recall curve](http://scikit-learn.org/stable/auto_examples/model_selection/plot_precision_recall.html#plot-the-precision-recall-curve) for your final classifier (the one you use to make predictions for Kaggle)."
   ]
  },
  {
   "cell_type": "code",
   "execution_count": 31,
   "metadata": {
    "deletable": false,
    "nbgrader": {
     "cell_type": "code",
     "checksum": "8aed6cd26a59c471f66756ebb5e8bc51",
     "grade": true,
     "grade_id": "q9-roc-curve",
     "locked": false,
     "points": 3,
     "schema_version": 2,
     "solution": true
    },
    "tags": [
     "student",
     "written",
     "q_roc"
    ]
   },
   "outputs": [
    {
     "data": {
      "image/png": "[encoded data removed]",
      "text/plain": [
       "<matplotlib.figure.Figure at 0x7fd7852b1e80>"
      ]
     },
     "metadata": {},
     "output_type": "display_data"
    }
   ],
   "source": [
    "from sklearn.metrics import precision_recall_curve\n",
    "# Note that you'll want to use the .predict_proba(...) method for your classifier\n",
    "# instead of .predict(...) so you get probabilities, not classes\n",
    "\n",
    "word_lst = get_words(train)\n",
    "feat = featurize(train, word_lst)\n",
    "model = train_func(feat, train['spam'])\n",
    "prob = model.predict_proba(feat)\n",
    "\n",
    "precision, recall, _ = precision_recall_curve(train['spam'].values, prob[:,1])\n",
    "plt.step(recall, precision, color='b', alpha=0.2,\n",
    "         where='post');\n",
    "plt.fill_between(recall, precision, alpha=0.2, color='b');\n",
    "plt.xlabel('Recall');\n",
    "plt.ylabel('Precision');\n",
    "plt.ylim([0.0, 1.05]);\n",
    "plt.xlim([0.0, 1.0]);\n"
   ]
  },
  {
   "cell_type": "markdown",
   "metadata": {
    "deletable": false,
    "editable": false,
    "nbgrader": {
     "cell_type": "markdown",
     "checksum": "4d01b81fcf61ca223b578b0a07b0d551",
     "grade": false,
     "grade_id": "q10",
     "locked": true,
     "schema_version": 2,
     "solution": false
    }
   },
   "source": [
    "# Question 10: Submitting to Kaggle\n",
    "\n",
    "The following code will write your predictions on the test dataset to a CSV, which you can submit to Kaggle. You may need to modify it to suit your needs.\n",
    "\n",
    "Save your predictions in a 1-dimensional array called `test_predictions`. *Even if you are not submitting to Kaggle, please make sure you've saved your predictions to `test_predictions` as this is how your grade for this part will be determined.*\n",
    "\n",
    "Remember that if you've performed transformations or featurization on the training data, you must also perform the same transformations on the test data in order to make predictions. For example, if you've created features for the words \"drug\" and \"money\" on the training data, you must also extract the same features in order to use scikit-learn's `.predict(...)` method.\n",
    "\n",
    "You should submit your CSV files to https://www.kaggle.com/t/d9a7013e7fd048c291ff7efe6e1ac25e"
   ]
  },
  {
   "cell_type": "code",
   "execution_count": 32,
   "metadata": {},
   "outputs": [],
   "source": [
    "# vectorizer1 = CountVectorizer()\n",
    "# X1 = vectorizer1.fit_transform(list(train['email']))\n",
    "# feat1 = X1.toarray()\n",
    "# reply_array = isReply(train['subject'])\n",
    "# df = pd.DataFrame(feat1, columns=vectorizer1.get_feature_names())\n",
    "# df['reply'] = reply_array\n",
    "# model1 = train_func(df.values, train['spam'])\n",
    "\n",
    "\n",
    "\n",
    "# cv1 = sklearn.feature_extraction.text.CountVectorizer(vocabulary=vectorizer1.get_feature_names())\n",
    "# Phi_train1 = cv1.fit_transform(list(val['email'])).toarray()\n",
    "\n",
    "# test_predictions1 = model1.score(Phi_train1, val['spam'])\n",
    "# test_predictions1"
   ]
  },
  {
   "cell_type": "code",
   "execution_count": 33,
   "metadata": {},
   "outputs": [],
   "source": [
    "# vectorizer = CountVectorizer()\n",
    "# X = vectorizer.fit_transform(list(original_training_data['email']))\n",
    "# feat = X.toarray()\n",
    "# model = train_func(feat, original_training_data['spam'])\n",
    "\n",
    "# cv = sklearn.feature_extraction.text.CountVectorizer(vocabulary=vectorizer.get_feature_names())\n",
    "# Phi_train = cv.fit_transform(list(test['email'])).toarray()\n",
    "\n",
    "# test_predictions = model.predict(Phi_train)"
   ]
  },
  {
   "cell_type": "code",
   "execution_count": 34,
   "metadata": {},
   "outputs": [],
   "source": [
    "# word_lst = get_words(train)\n",
    "# feat = featurize(train, word_lst)\n",
    "# model = train_func(feat, train['spam'])\n",
    "\n",
    "# test_predictions = model.score(featurize(val, word_lst), val[\"spam\"])\n",
    "# test_predictions"
   ]
  },
  {
   "cell_type": "code",
   "execution_count": 35,
   "metadata": {
    "deletable": false,
    "nbgrader": {
     "cell_type": "code",
     "checksum": "a20d348d3b7e22d9c6126cab41905a2c",
     "grade": false,
     "grade_id": "q10-answer",
     "locked": false,
     "schema_version": 2,
     "solution": true
    }
   },
   "outputs": [],
   "source": [
    "# CHANGE ME (Currently making random predictions)\n",
    "word_lst = get_words(original_training_data)\n",
    "feat = featurize(original_training_data, word_lst)\n",
    "model = train_func(feat, original_training_data['spam'])\n",
    "\n",
    "test_predictions = model.predict(featurize(test, word_lst))\n",
    "\n",
    "# YOUR CODE HERE\n",
    "# raise NotImplementedError()"
   ]
  },
  {
   "cell_type": "code",
   "execution_count": 36,
   "metadata": {
    "deletable": false,
    "editable": false,
    "nbgrader": {
     "cell_type": "code",
     "checksum": "71231a62f83f5aba02fc5c24fb93722d",
     "grade": true,
     "grade_id": "q10-tests",
     "locked": true,
     "points": 1,
     "schema_version": 2,
     "solution": false
    }
   },
   "outputs": [],
   "source": [
    "# must be ndarray of predictions\n",
    "assert isinstance(test_predictions, np.ndarray) \n",
    "\n",
    "# must be binary labels (0 or 1) and not probabilities\n",
    "assert np.all((test_predictions == 0) | (test_predictions == 1))\n",
    "\n",
    "# must be the right number of predictions\n",
    "assert test_predictions.shape == (1000, )"
   ]
  },
  {
   "cell_type": "code",
   "execution_count": 37,
   "metadata": {
    "deletable": false,
    "editable": false,
    "nbgrader": {
     "cell_type": "code",
     "checksum": "9dfffe9e2d4d757b84e8d3601b5e5dd9",
     "grade": true,
     "grade_id": "q10-hidden-tests",
     "locked": true,
     "points": 4,
     "schema_version": 2,
     "solution": false
    }
   },
   "outputs": [],
   "source": [
    "# Please do not modify this cell"
   ]
  },
  {
   "cell_type": "markdown",
   "metadata": {
    "deletable": false,
    "editable": false,
    "nbgrader": {
     "cell_type": "markdown",
     "checksum": "f08c87d79dbcfed4134d2f56fda5b1fa",
     "grade": false,
     "grade_id": "cell-d15e30e2a961277d",
     "locked": true,
     "schema_version": 2,
     "solution": false
    }
   },
   "source": [
    "The following saves a file to submit to Kaggle."
   ]
  },
  {
   "cell_type": "code",
   "execution_count": 38,
   "metadata": {
    "deletable": false,
    "editable": false,
    "nbgrader": {
     "cell_type": "code",
     "checksum": "3822cba6984e1609bb87b009d5bf5704",
     "grade": false,
     "grade_id": "cell-8dd1bfadcbe08b00",
     "locked": true,
     "schema_version": 2,
     "solution": false
    }
   },
   "outputs": [
    {
     "name": "stdout",
     "output_type": "stream",
     "text": [
      "Created a CSV file: submission_2018-11-09T23:47:41.csv.\n",
      "You may now upload this CSV file to Kaggle for scoring.\n"
     ]
    }
   ],
   "source": [
    "from datetime import datetime\n",
    "\n",
    "# Assuming that your predictions on the test set are stored in a 1-dimensional array called\n",
    "# test_predictions. Feel free to modify this cell as long you create a CSV in the right format.\n",
    "\n",
    "# must be ndarray of predictions\n",
    "assert isinstance(test_predictions, np.ndarray) \n",
    "\n",
    "# must be binary labels (0 or 1) and not probabilities\n",
    "assert np.all((test_predictions == 0) | (test_predictions == 1))\n",
    "\n",
    "# must be the right number of predictions\n",
    "assert test_predictions.shape == (1000, )\n",
    "\n",
    "# Construct and save the submission:\n",
    "submission_df = pd.DataFrame({\n",
    "    \"Id\": test['id'], \n",
    "    \"Class\": test_predictions,\n",
    "}, columns=['Id', 'Class'])\n",
    "timestamp = datetime.isoformat(datetime.now()).split(\".\")[0]\n",
    "submission_df.to_csv(\"submission_{}.csv\".format(timestamp), index=False)\n",
    "\n",
    "print('Created a CSV file: {}.'.format(\"submission_{}.csv\".format(timestamp)))\n",
    "print('You may now upload this CSV file to Kaggle for scoring.')"
   ]
  },
  {
   "cell_type": "markdown",
   "metadata": {},
   "source": [
    "## Submission\n",
    "\n",
    "You're done!\n",
    "\n",
    "Before submitting this assignment, ensure to:\n",
    "\n",
    "1. Restart the Kernel (in the menubar, select Kernel->Restart & Run All)\n",
    "2. Validate the notebook by clicking the \"Validate\" button\n",
    "\n",
    "Finally, make sure to **submit** the assignment via the Assignments tab in Datahub"
   ]
  },
  {
   "cell_type": "code",
   "execution_count": null,
   "metadata": {},
   "outputs": [],
   "source": []
  }
 ],
 "metadata": {
  "kernelspec": {
   "display_name": "Python 3",
   "language": "python",
   "name": "python3"
  },
  "language_info": {
   "codemirror_mode": {
    "name": "ipython",
    "version": 3
   },
   "file_extension": ".py",
   "mimetype": "text/x-python",
   "name": "python",
   "nbconvert_exporter": "python",
   "pygments_lexer": "ipython3",
   "version": "3.7.0"
  }
 },
 "nbformat": 4,
 "nbformat_minor": 2
}
